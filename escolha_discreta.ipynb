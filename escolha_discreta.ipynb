{
 "cells": [
  {
   "cell_type": "code",
   "execution_count": 1,
   "metadata": {},
   "outputs": [],
   "source": [
    "import numpy as np\n",
    "import matplotlib.pyplot as plt\n",
    "import pandas as pd\n",
    "import seaborn as sns\n",
    "import statistics\n",
    "import random\n",
    "import math\n",
    "import warnings\n",
    "import statsmodels.formula.api as sm\n",
    "from scipy import stats\n",
    "from scipy.stats import norm\n",
    "from scipy.optimize import minimize"
   ]
  },
  {
   "attachments": {},
   "cell_type": "markdown",
   "metadata": {},
   "source": [
    "## Questão 1. ( $5.0$ pontos)\n",
    "Considere o modelo latente a seguir:\n",
    "$$\n",
    "\\begin{aligned}\n",
    "&y_{1 i}^*=\\gamma y_{2 i}+\\beta_1 x_{1 i}+\\beta_2 x_{2 i}+u_i \\\\\n",
    "&y_{2 i}=\\pi_1 x_{1 i}+\\pi_2 x_{2 i}+\\pi_3 x_{3 i}+v_i\n",
    "\\end{aligned}\n",
    "$$\n",
    "onde o econometrista observa\n",
    "$$\n",
    "y_{1 i}=\\mathbb{I}\\left(y_{1 i}^*>0\\right),\n",
    "$$\n",
    "sendo $\\mathbb{I}\\left(y_{1 i}^*>0\\right)$ uma função indicadora com valor igual a 1 caso $y_{1 i}^*>0$ e 0 caso contrário. As seguintes propriedades são válidas:"
   ]
  },
  {
   "cell_type": "markdown",
   "metadata": {},
   "source": [
    "\n",
    "* $\\left(u_i, v_i\\right)$ tem média zero, distribuição normal, independente de $x_i=\\left(x_{1 i}, x_{2 i}, x_{3 i}\\right)$;\n",
    "\n",
    "* $u_i=\\lambda v_i+\\eta_i$, onde $\\left(v_i, \\eta_i\\right)$ são independentes com distribuição normal padrão.\n",
    "\n",
    "Para o exercício de simulação abaixo, considere o seguinte processo de geração de dados: $x_{1 i}$ é um termo constante, $(x_{2 i}, x_{3 i})$ vem de distribuições normais multivariada equicorrelacionadas, com médias zeros, variancias unitárias e covariância de 0.5. Os parâmetros são definidos como:\n",
    "\n",
    "\n",
    "* $\\gamma=1$ \n",
    "* $\\beta_1=0$\n",
    "* $\\beta_2=-1$\n",
    "* $\\pi_1=0$\n",
    "* $\\pi_2=1$\n",
    "* $\\pi_3=1$\n",
    "* $\\lambda = 0.5$\n",
    "* $n=100$ \n",
    "\n",
    "onde $n$ é o tamanho da amostra. Construa o se próprio código para as stimações abaixo, não use os comandos do software."
   ]
  },
  {
   "attachments": {},
   "cell_type": "markdown",
   "metadata": {},
   "source": [
    "### (a) (1.0) Proponha um método de estimação para o problema acima baseado na densidade conjunta de $f\\left(y_{1 i}, y_{2 i} \\mid x_i\\right)$. Obtenha a função de verossimilhança para a estimação."
   ]
  },
  {
   "cell_type": "markdown",
   "metadata": {},
   "source": [
    "Sabemos que\n",
    "\n",
    "$$\n",
    "f(y_{1i}, y_{2i}|x_i) = f(y_{1i}|y_{2i}, x_i)\\cdot f(y_{2i}|x_i)\n",
    "$$\n",
    "\n",
    "Então precisamos encontrar $f(y_{1i}|y_{2i}, x_i)$ e $f(y_{2i}|x_i)$. Primeiro encontraremos $f(y_{2i}|x_i)$."
   ]
  },
  {
   "cell_type": "markdown",
   "metadata": {},
   "source": [
    "Pelo enunciado, temos a seguinte estrutura entre os erros\n",
    "\n",
    "$$\n",
    "\\left(\\begin{array}{l}\n",
    "u_i \\\\\n",
    "v_i\n",
    "\\end{array}\\right) \\sim \\operatorname{NID}\\left[\\left(\\begin{array}{l}\n",
    "0 \\\\\n",
    "0\n",
    "\\end{array}\\right),\\left(\\begin{array}{ll}\n",
    "\\sigma_{u}^2 & \\sigma_{u v} \\\\\n",
    "\\sigma_{v u} & \\sigma_{v}^2\n",
    "\\end{array}\\right)\\right]\n",
    "$$"
   ]
  },
  {
   "cell_type": "markdown",
   "metadata": {},
   "source": [
    "Utilizando as propriedades da normal multivariada, temos os seguintes resultados\n",
    "\n",
    "* Distribuição marginal\n",
    "\n",
    "$$\n",
    "\\mathbb{D}(u_i) = \\mathcal{N}(0, \\sigma_u^2)\\\\\n",
    "\\mathbb{D}(v_i) = \\mathcal{N}(0, \\sigma_v^2)\n",
    "$$\n",
    "\n",
    "* Distribuição Condicional\n",
    "$$\n",
    "\\mathbb{D}(u_i | v_i) = \\mathcal{N}\\left(\\frac{\\sigma{u v}}{\\sigma_v^2}v_i, \\sigma_u^2 - \\frac{\\sigma{u v}^2}{\\sigma_v^2}\\right)\\\\\n",
    "\\mathbb{D}(v_i | u_i) = \\mathcal{N}\\left(\\frac{\\sigma{v u}}{\\sigma_u^2}u_i, \\sigma_v^2 - \\frac{\\sigma{v u}^2}{\\sigma_u^2}\\right)\\\\\n",
    "$$\n"
   ]
  },
  {
   "attachments": {},
   "cell_type": "markdown",
   "metadata": {},
   "source": [
    "Partindo então de $y_{2 i}=\\pi_1 x_{1 i}+\\pi_2 x_{2 i}+\\pi_3 x_{3 i}+v_i$, temos\n",
    "\n",
    "$$\n",
    "\\mathbb{E}[y_{2 i}| x_i] = \\pi_1 x_{1 i}+\\pi_2 x_{2 i}+\\pi_3 x_{3 i} \\\\\n",
    "\\mathbb{V}[y_{2 i}| x_i] = \\mathbb{V}[v_i | x_i] = \\mathbb{V}[v_i] =\\sigma_v^2 = 1\n",
    "$$\n",
    "\n",
    "Portanto\n",
    "\n",
    "$$\n",
    "\\mathbb{D}(y_{2 i}|x_i) = \\mathcal{N}\\left(\\pi_1 x_{1 i}+\\pi_2 x_{2 i}+\\pi_3 x_{3 i}, \\sigma_v^2\\right)\n",
    "$$"
   ]
  },
  {
   "attachments": {},
   "cell_type": "markdown",
   "metadata": {},
   "source": [
    "Isso significa que\n",
    "\n",
    "$$\n",
    "\\begin{aligned}\n",
    "f(y_{2 i}| x_i) &= \\frac{1}{\\sqrt{2 \\pi \\sigma_v^2}}\\exp{\\left(-\\frac{\\left(y_{2 i} - \\left(\\pi_1 x_{1 i}+\\pi_2 x_{2 i}+\\pi_3 x_{3 i}\\right)\\right)^2}{2\\sigma_v^2}\\right)} \\\\\n",
    "\\end{aligned}\n",
    "$$\n",
    "\n",
    "onde $\\phi(\\cdot)$ é a pdf de uma distribuição normal padronizada"
   ]
  },
  {
   "attachments": {},
   "cell_type": "markdown",
   "metadata": {},
   "source": [
    "Agora precisamos definir $f(y_{1i}|y_{2i}, x_i)$\n",
    "\n",
    "Primeiro, sabemos que $u_i = \\lambda v_i + \\eta_i$ onde \n",
    "* $v_i \\sim \\mathcal{N}(0,1)$\n",
    "* $\\eta_i \\sim \\mathcal{N}(0,1)$ \n",
    "* $v_i \\perp \\!\\!\\! \\perp \\eta_i$\n",
    "\n",
    "e\n",
    "\n",
    "$$\n",
    "\\lambda = \\frac{\\mathbb{C}[v_i, u_i]}{\\mathbb{V}[v_i]} = \\frac{\\sigma_{v u}}{\\sigma_{v}^2} = \\frac{1}{2}\n",
    "$$"
   ]
  },
  {
   "attachments": {},
   "cell_type": "markdown",
   "metadata": {},
   "source": [
    "Como $u_i = \\lambda v_i + \\eta_i$, então temos que \n",
    "\n",
    "$$\n",
    "\\begin{aligned}\n",
    "\\mathbb{V}[u_i] &= \\mathbb{V}[\\lambda v_i + \\eta_i]\\\\\n",
    "&=\\lambda^2\\mathbb{V}[v_i] + \\mathbb{V}[\\eta_i]\\\\\n",
    "\\sigma_u^2&=\\lambda^2\\sigma_v^2 + \\mathbb{V}[\\eta_i] = \\left(\\frac{1}{2}\\right)^2 1 + 1 = \\frac{5}{4}\\\\\n",
    "\n",
    "\\Leftrightarrow \\\\ \\mathbb{V}[\\eta_i] &= \\sigma_u^2 - \\lambda^2\\sigma_v^2\n",
    "\\end{aligned}\n",
    "$$"
   ]
  },
  {
   "attachments": {},
   "cell_type": "markdown",
   "metadata": {},
   "source": [
    "Reescrevendo \n",
    "\n",
    "$$\n",
    "\\begin{aligned}\n",
    "y_{1 i}^* &=\\gamma y_{2 i}+\\beta_1 x_{1 i}+\\beta_2 x_{2 i}+u_i \\\\\n",
    "&=\\gamma y_{2 i}+\\beta_1 x_{1 i}+\\beta_2 x_{2 i}+\\lambda v_i + \\eta_i \\\\\n",
    "&=\\gamma y_{2 i}+\\beta_1 x_{1 i}+\\beta_2 x_{2 i}+\\lambda\\left(y_{2 i} - \\pi_1 x_{1 i}-\\pi_2 x_{2 i}-\\pi_3 x_{3 i}\\right) + \\eta_i \\\\\n",
    "&=(\\gamma+\\lambda) y_{2 i}+(\\beta_1-\\lambda\\pi_1) x_{1 i}+(\\beta_2-\\lambda\\pi_2) x_{2 i}-\\lambda\\pi_3 x_{3 i} + \\eta_i \\\\\n",
    "\\end{aligned}\n",
    "$$"
   ]
  },
  {
   "cell_type": "markdown",
   "metadata": {},
   "source": [
    "Como $y_{1 i} \\in \\{0, 1\\}$, então\n",
    "\n",
    "$$\n",
    "f(y_{1 i}|y_{2 i}, x_i) = \\mathbb{P}(y_{1 i} = 1| y_{2 i}, x_i)^{y_{1 i}}\\left[1 - \\mathbb{P}(y_{1 i} = 1| y_{2 i}, x_i)\\right]^{(1-y_{1 i})}\n",
    "$$"
   ]
  },
  {
   "attachments": {},
   "cell_type": "markdown",
   "metadata": {},
   "source": [
    "$$\n",
    "\\begin{aligned}\n",
    "\\mathbb{P}(y_{1 i} = 1| y_{2 i}, x_i) &= \\mathbb{P}(y_{1 i}^* > 0| y_{2 i}, x_i)\\\\\n",
    "\n",
    "&= \\mathbb{P}((\\gamma+\\lambda) y_{2 i}+(\\beta_1-\\lambda\\pi_1) x_{1 i}+(\\beta_2-\\lambda\\pi_2) x_{2 i}-\\lambda\\pi_3 x_{3 i} + \\eta_i > 0 |y_{2 i}, x_i) \\\\\n",
    "\n",
    "&= \\mathbb{P}(\\eta_i > - (\\gamma+\\lambda) y_{2 i}-(\\beta_1-\\lambda\\pi_1) x_{1 i}-(\\beta_2-\\lambda\\pi_2) x_{2 i}+\\lambda\\pi_3 x_{3 i} |y_{2 i}, x_i) \\\\\n",
    "\n",
    "&=1 - \\mathbb{P}\\left(\\frac{\\eta_i}{\\sigma_u^2 - \\lambda^2\\sigma_v^2} <- \\frac{(\\gamma+\\lambda) y_{2 i}+(\\beta_1-\\lambda\\pi_1) x_{1 i}+(\\beta_2-\\lambda\\pi_2) x_{2 i}-\\lambda\\pi_3 x_{3 i}}{\\sigma_u^2 - \\lambda^2\\sigma_v^2} |y_{2 i}, x_i\\right) \\\\\n",
    "\n",
    "&=1 - \\Phi\\left(- \\frac{(\\gamma+\\lambda) y_{2 i}+(\\beta_1-\\lambda\\pi_1) x_{1 i}+(\\beta_2-\\lambda\\pi_2) x_{2 i}-\\lambda\\pi_3 x_{3 i}}{\\sigma_u^2 - \\lambda^2\\sigma_v^2}\\right) \\\\\n",
    "\n",
    "&=\\Phi\\left(\\frac{(\\gamma+\\lambda) y_{2 i}+(\\beta_1-\\lambda\\pi_1) x_{1 i}+(\\beta_2-\\lambda\\pi_2) x_{2 i}-\\lambda\\pi_3 x_{3 i}}{\\sigma_u^2 - \\lambda^2\\sigma_v^2}\\right) \\\\\n",
    "\\end{aligned}\n",
    "$$"
   ]
  },
  {
   "attachments": {},
   "cell_type": "markdown",
   "metadata": {},
   "source": [
    "Defina \n",
    "\n",
    "$$\n",
    "\\Phi(w) \\equiv \\Phi\\left(\\frac{(\\gamma+\\lambda) y_{2 i}+(\\beta_1-\\lambda\\pi_1) x_{1 i}+(\\beta_2-\\lambda\\pi_2) x_{2 i}-\\lambda\\pi_3 x_{3 i}}{\\sigma_u^2 - \\lambda^2\\sigma_v^2}\\right) \\\\\n",
    "$$"
   ]
  },
  {
   "attachments": {},
   "cell_type": "markdown",
   "metadata": {},
   "source": [
    "Portanto\n",
    "\n",
    "$$\n",
    "\\begin{aligned}\n",
    "f(y_{1i}, y_{2i}|x_i) &= f(y_{1i}|y_{2i}, x_i)\\cdot f(y_{2i}|x_i)\\\\\n",
    "&=\\Phi(w)^{y_{1 i}}\\left[1-\\Phi(w)\\right]^{(1-y_{1 i})}\\cdot \\frac{1}{\\sqrt{2 \\pi \\sigma_v^2}}\\exp{\\left(-\\frac{\\left(y_{2 i} - \\left(\\pi_1 x_{1 i}+\\pi_2 x_{2 i}+\\pi_3 x_{3 i}\\right)\\right)^2}{2\\sigma_v^2}\\right)}\n",
    "\\end{aligned}\n",
    "$$\n"
   ]
  },
  {
   "attachments": {},
   "cell_type": "markdown",
   "metadata": {},
   "source": [
    "Aplicando $\\ln(\\cdot)$\n",
    "\n",
    "$$\n",
    "\\begin{aligned}\n",
    "\\ln(f(y_{1i}, y_{2i}|x_i)) &= y_{1 i}\\ln\\left[\\Phi(w)\\right] + (1-y_{1 i})\\ln\\left[1-\\Phi(w)\\right] + \\ln\\left[\\frac{1}{\\sqrt{2 \\pi \\sigma_v^2}}\\exp{\\left(-\\frac{\\left(y_{2 i} - \\left(\\pi_1 x_{1 i}+\\pi_2 x_{2 i}+\\pi_3 x_{3 i}\\right)\\right)^2}{2\\sigma_v^2}\\right)}\\right]\\\\\n",
    "&= y_{1 i}\\ln\\left[\\Phi(w)\\right] + (1-y_{1 i})\\ln\\left[1-\\Phi(w)\\right] + \\underbrace{\\ln\\left[\\frac{1}{\\sqrt{2 \\pi}}\\right]}_{\\operatorname{\\text{podemos desconsiderar}}} + \\ln\\left[\\frac{1}{\\sqrt{\\sigma_v^2}}\\right] -\\left(\\frac{\\left(y_{2 i} - \\left(\\pi_1 x_{1 i}+\\pi_2 x_{2 i}+\\pi_3 x_{3 i}\\right)\\right)^2}{2\\sigma_v^2}\\right)\\\\\n",
    "&= y_{1 i}\\ln\\left[\\Phi(w)\\right] + (1-y_{1 i})\\ln\\left[1-\\Phi(w)\\right] - \\frac{1}{2}\\ln\\left[\\sigma_v^2\\right] -\\left(\\frac{\\left(y_{2 i} - \\left(\\pi_1 x_{1 i}+\\pi_2 x_{2 i}+\\pi_3 x_{3 i}\\right)\\right)^2}{2\\sigma_v^2}\\right)\\\\\n",
    "\\end{aligned}\n",
    "$$"
   ]
  },
  {
   "cell_type": "markdown",
   "metadata": {},
   "source": [
    "Finalmente temos que a Likelihood é \n",
    "\n",
    "$$\n",
    "\\mathcal{L} = \\prod_{i=1}^n f(y_{1 i}, y_{2 i}| x_i)\n",
    "$$\n",
    "\n",
    "e a Log-Likelihood é\n",
    "\n",
    "$$\n",
    "\\ln(\\mathcal{L}) = \\sum_{i=1}^n \\ln\\left[f(y_{1 i}, y_{2 i}| x_i)\\right]\n",
    "$$"
   ]
  },
  {
   "cell_type": "code",
   "execution_count": 2,
   "metadata": {},
   "outputs": [],
   "source": [
    "# garante a replicabilidade dos valores aleatórios\n",
    "random.seed(123)\n",
    "warnings.filterwarnings('ignore')"
   ]
  },
  {
   "cell_type": "code",
   "execution_count": 3,
   "metadata": {},
   "outputs": [],
   "source": [
    "# valores dos parâmetros verdadeiros\n",
    "\n",
    "gamma = 1\n",
    "beta_1 = 0\n",
    "beta_2 = -1\n",
    "pi_1 = 0\n",
    "pi_2 = 1\n",
    "pi_3 = 1\n",
    "lambdaa = 0.5\n",
    "\n",
    "n = 100"
   ]
  },
  {
   "cell_type": "code",
   "execution_count": 4,
   "metadata": {},
   "outputs": [],
   "source": [
    "# gerando normais padronizadas independentes\n",
    "v = np.random.normal(0, 1, n)\n",
    "eta = np.random.normal(0, 1, n)"
   ]
  },
  {
   "cell_type": "code",
   "execution_count": 5,
   "metadata": {},
   "outputs": [
    {
     "data": {
      "image/png": "[encoded data removed]",
      "text/plain": [
       "<Figure size 864x576 with 1 Axes>"
      ]
     },
     "metadata": {},
     "output_type": "display_data"
    }
   ],
   "source": [
    "# plot da distribuição de v\n",
    "sns.set(rc={'figure.figsize':(12,8)});\n",
    "ax = sns.histplot(v,\n",
    "                  bins=30,\n",
    "                  kde=True,\n",
    "                  color='blue',\n",
    "                  stat = \"density\");\n",
    "ax.set(xlabel='v', ylabel='Frequência');"
   ]
  },
  {
   "cell_type": "code",
   "execution_count": 6,
   "metadata": {},
   "outputs": [
    {
     "data": {
      "image/png": "[encoded data removed]",
      "text/plain": [
       "<Figure size 864x576 with 1 Axes>"
      ]
     },
     "metadata": {},
     "output_type": "display_data"
    }
   ],
   "source": [
    "# plot da distribuição de eta\n",
    "sns.set(rc={'figure.figsize':(12,8)});\n",
    "ax = sns.histplot(eta,\n",
    "                  bins=30,\n",
    "                  kde=True,\n",
    "                  color='blue',\n",
    "                  stat = \"density\");\n",
    "ax.set(xlabel='eta', ylabel='Frequência');"
   ]
  },
  {
   "cell_type": "code",
   "execution_count": 7,
   "metadata": {},
   "outputs": [
    {
     "data": {
      "text/plain": [
       "array([[0.96716573, 0.01859763],\n",
       "       [0.01859763, 0.84926911]])"
      ]
     },
     "execution_count": 7,
     "metadata": {},
     "output_type": "execute_result"
    }
   ],
   "source": [
    "# matriz de covariância entre v e eta\n",
    "np.cov(v, eta)"
   ]
  },
  {
   "cell_type": "markdown",
   "metadata": {},
   "source": [
    "onde os valores assintóticos devem ser\n",
    "\n",
    "$$\n",
    "\\mathbb{V}[v] = 1 \\\\\n",
    "\\mathbb{V}[\\eta] = 1 \\\\\n",
    "\\mathbb{C}[v, \\eta] = \\mathbb{C}[\\eta, v] = 0 \\\\\n",
    "$$"
   ]
  },
  {
   "cell_type": "code",
   "execution_count": 8,
   "metadata": {},
   "outputs": [],
   "source": [
    "# criando u genérico\n",
    "u = np.zeros(n)"
   ]
  },
  {
   "cell_type": "markdown",
   "metadata": {},
   "source": [
    "$$\n",
    "u_i = \\lambda v_i + \\eta_i\n",
    "$$"
   ]
  },
  {
   "cell_type": "code",
   "execution_count": 9,
   "metadata": {},
   "outputs": [],
   "source": [
    "# definindo u\n",
    "for i in range(n):\n",
    "    u[i] = lambdaa*v[i] + eta[i]"
   ]
  },
  {
   "cell_type": "code",
   "execution_count": 10,
   "metadata": {},
   "outputs": [
    {
     "data": {
      "text/plain": [
       "array([[1.10965817, 0.5021805 ],\n",
       "       [0.5021805 , 0.96716573]])"
      ]
     },
     "execution_count": 10,
     "metadata": {},
     "output_type": "execute_result"
    }
   ],
   "source": [
    "# matriz de covariância entre u e v\n",
    "np.cov(u, v)"
   ]
  },
  {
   "cell_type": "markdown",
   "metadata": {},
   "source": [
    "onde a teoria nos diz que \n",
    "\n",
    "$$\n",
    "\\begin{aligned}\n",
    "\\mathbb{C}[u, v] &= \\mathbb{C}[\\lambda v + \\eta, v]  \\\\\n",
    "&= \\lambda\\mathbb{C}[v, v] + \\mathbb{C}[\\eta, v] \\\\\n",
    "&= \\lambda \\mathbb{V}[v] + \\mathbb{C}[\\eta, v] \\\\\n",
    "&= 0.5\\cdot 1 + 0 = 0.5\n",
    "\\end{aligned}\n",
    "$$"
   ]
  },
  {
   "cell_type": "code",
   "execution_count": 11,
   "metadata": {},
   "outputs": [],
   "source": [
    "# gerandos x1\n",
    "x1 = np.ones(n)"
   ]
  },
  {
   "cell_type": "code",
   "execution_count": 12,
   "metadata": {},
   "outputs": [],
   "source": [
    "# gerando x2, x3\n",
    "mean = [0, 0]\n",
    "cov = [[1, 0.5], [0.5, 1]]\n",
    "\n",
    "x2, x3 = np.random.multivariate_normal(mean, cov, n).T"
   ]
  },
  {
   "cell_type": "code",
   "execution_count": 13,
   "metadata": {},
   "outputs": [
    {
     "data": {
      "image/png": "[encoded data removed]",
      "text/plain": [
       "<Figure size 864x576 with 1 Axes>"
      ]
     },
     "metadata": {},
     "output_type": "display_data"
    }
   ],
   "source": [
    "# densidade conjunta de x2 e x3\n",
    "plt.plot(x2, x3, 'o')\n",
    "plt.axis('equal')\n",
    "plt.show()"
   ]
  },
  {
   "cell_type": "code",
   "execution_count": 14,
   "metadata": {},
   "outputs": [
    {
     "data": {
      "text/plain": [
       "array([[0.71327204, 0.26935665],\n",
       "       [0.26935665, 0.78646146]])"
      ]
     },
     "execution_count": 14,
     "metadata": {},
     "output_type": "execute_result"
    }
   ],
   "source": [
    "np.cov(x2,x3)"
   ]
  },
  {
   "cell_type": "markdown",
   "metadata": {},
   "source": [
    "$$\n",
    "y_{2 i}=\\pi_1 x_{1 i}+\\pi_2 x_{2 i}+\\pi_3 x_{3 i}+v_i\n",
    "$$"
   ]
  },
  {
   "cell_type": "code",
   "execution_count": 15,
   "metadata": {},
   "outputs": [],
   "source": [
    "# definindo y2\n",
    "y2 = np.zeros(n)\n",
    "\n",
    "for i in range(n):\n",
    "    y2[i] = pi_1*x1[i] + pi_2*x2[i] + pi_3*x3[i] + v[i]"
   ]
  },
  {
   "cell_type": "markdown",
   "metadata": {},
   "source": [
    "$$\n",
    "y_{1 i}^*=\\gamma y_{2 i}+\\beta_1 x_{1 i}+\\beta_2 x_{2 i}+u_i\n",
    "$$"
   ]
  },
  {
   "cell_type": "code",
   "execution_count": 16,
   "metadata": {},
   "outputs": [],
   "source": [
    "# definindo y1*\n",
    "y1_star = np.zeros(n)\n",
    "\n",
    "for i in range(n):\n",
    "    y1_star[i] = gamma*y2[i] + beta_1*x1[i] + beta_2*x2[i] + u[i]"
   ]
  },
  {
   "cell_type": "markdown",
   "metadata": {},
   "source": [
    "$$\n",
    "y_{1 i}=\\mathbb{I}\\left(y_{1 i}^*>0\\right)\n",
    "$$"
   ]
  },
  {
   "cell_type": "code",
   "execution_count": 17,
   "metadata": {},
   "outputs": [],
   "source": [
    "# definindo y1\n",
    "y1 = np.zeros(n)\n",
    "\n",
    "for i in range(n):\n",
    "    if y1_star[i] > 0:\n",
    "        y1[i] = 1\n",
    "    else:\n",
    "        y1[i] = 0"
   ]
  },
  {
   "attachments": {},
   "cell_type": "markdown",
   "metadata": {},
   "source": [
    "### (b) (1.4) Considerando o processo de geração de dados descrito acima, simule uma amostra de tamanho $n$ e implemente a estimação solicitada no item (a). Obtenha as estimativas dos parâmetros $\\left(\\gamma, \\beta_1, \\beta_2, \\pi_1, \\pi_2, \\pi_3\\right)$ e intervalos de confiança de $95 \\%$ via bootstrap."
   ]
  },
  {
   "attachments": {},
   "cell_type": "markdown",
   "metadata": {},
   "source": [
    "Agora precisamos montar a log-likelihood, que é\n",
    "\n",
    "$$\n",
    "\\begin{aligned}\n",
    "\\ln(\\mathcal{L}) &= \\sum_{i=1}^n \\ln\\left[f(y_{1 i}, y_{2 i}| x_i)\\right]\\\\\n",
    "&= \\sum_{i=1}^n y_{1 i}\\ln\\left[\\Phi(w)\\right] + (1-y_{1 i})\\ln\\left[1-\\Phi(w)\\right] - \\frac{1}{2}\\ln\\left[\\sigma_v^2\\right] -\\left(\\frac{\\left(y_{2 i} - \\left(\\pi_1 x_{1 i}+\\pi_2 x_{2 i}+\\pi_3 x_{3 i}\\right)\\right)^2}{2\\sigma_v^2}\\right)\n",
    "\\end{aligned}\n",
    "$$\n",
    "\n",
    "onde $w = \\frac{(\\gamma+\\lambda) y_{2 i}+(\\beta_1-\\lambda\\pi_1) x_{1 i}+(\\beta_2-\\lambda\\pi_2) x_{2 i}-\\lambda\\pi_3 x_{3 i}}{\\sigma_u^2 - \\lambda^2\\sigma_v^2}$"
   ]
  },
  {
   "attachments": {},
   "cell_type": "markdown",
   "metadata": {},
   "source": [
    "Para diminuir o tempo computacional, vamos vetorizar as variáveis que temos, i.e. $x_1$, $x_2$, $x_3$, $y_1$ e $y_3$."
   ]
  },
  {
   "cell_type": "code",
   "execution_count": 18,
   "metadata": {},
   "outputs": [],
   "source": [
    "def mle(parametros, x1, x2, x3, y1, y2):\n",
    "   gamma, beta_1, beta_2, pi_1, pi_2, pi_3, lambdaa, sigma2_u, sigma2_v = parametros # parametros (são os outputs futuros do problema de otimização)\n",
    "   # primeiro criamos w\n",
    "   w = np.zeros(100)\n",
    "   w = ( ( gamma + lambdaa ) * y2 + ( beta_1 - lambdaa*pi_1 ) * x1 + \\\n",
    "          ( beta_2 - lambdaa*pi_2 ) * x2 - lambdaa * pi_3 * x3 ) / ( sigma2_u - ( lambdaa**(2) ) * sigma2_v )\n",
    "   # agora criamos o vetor de valores, onde cada valor é o valor de uma pdf\n",
    "   ln_pdf = y1 * np.log( norm.cdf( w ) ) + ( 1 - y1 ) * np.log( 1 - norm.cdf( w ) ) \\\n",
    "          - (1/2) * np.log( sigma2_v ) - ( ( y2 - ( pi_1 * x1 + pi_2 * x2 + pi_3 * x3 ) )**2 / ( 2 * sigma2_v ) ) \n",
    "   LL = (ln_pdf).sum()\n",
    "   # Calcula o negativo da log-likelihood\n",
    "   neg_LL = -LL\n",
    "   return neg_LL"
   ]
  },
  {
   "cell_type": "code",
   "execution_count": 19,
   "metadata": {},
   "outputs": [],
   "source": [
    "# função de otimização\n",
    "def estimadores(x1, x2, x3, y1, y2, chute_inicial):\n",
    "    \"\"\"\n",
    "    Calcula os valores que minimiza a função de verossimilhançaa dada a amostra\n",
    "    :param x: valores de x da amostra de tamanho n\n",
    "    :param y: valores de y da amostra de tamanho n\n",
    "    :param chute_inicial: chute inicial na forma (gamma, beta_1, beta_2, pi_1, pi_2, pi_3, lambdaa, sigma2_u, sigma2_v)\n",
    "    :return: tupla com os valores ótimos (gamma, beta_1, beta_2, pi_1, pi_2, pi_3, lambdaa, sigma2_u, sigma2_v)\n",
    "    \"\"\"\n",
    "    estimadores_mle = minimize(mle,\n",
    "        x0=chute_inicial,\n",
    "        args=(x1, x2, x3, y1, y2),\n",
    "        bounds=((None, None), (None, None), (None, None), (None, None), (None, None), (None, None),  (None, None), (0.001, None), (0.001, None)),\n",
    "        method = 'L-BFGS-B'\n",
    "        ).x\n",
    "    return estimadores_mle"
   ]
  },
  {
   "attachments": {},
   "cell_type": "markdown",
   "metadata": {},
   "source": [
    "Esses são os resultados estimados respectivamente de, $\\hat{\\gamma}$, $\\hat{\\beta}_1$, $\\hat{\\beta}_2$, $\\hat{\\pi}_1$, $\\hat{\\pi}_2$, $\\hat{\\pi}_3$, $\\hat{\\lambda}$, $\\hat{\\sigma}_{u}^2$ e $\\hat{\\sigma}_{v}^2$."
   ]
  },
  {
   "cell_type": "code",
   "execution_count": 20,
   "metadata": {},
   "outputs": [
    {
     "data": {
      "text/plain": [
       "array([ 0.83121281, -0.13300998, -0.75342097,  0.11317632,  0.87982974,\n",
       "        1.1211605 ,  0.3383675 ,  1.01952492,  0.94363078])"
      ]
     },
     "execution_count": 20,
     "metadata": {},
     "output_type": "execute_result"
    }
   ],
   "source": [
    "chute = [0, 0, 0, 0, 0, 0, 0, 0, 0]\n",
    "estimadores(x1, x2, x3, y1, y2, chute)"
   ]
  },
  {
   "attachments": {},
   "cell_type": "markdown",
   "metadata": {},
   "source": [
    "Os resultados esperados eram $\\gamma=1$, $\\beta_1=0$, $\\beta_2=-1$, $\\pi_1=0$, $\\pi_2=1$, $\\pi_3=1$, $\\lambda=0.5$, $\\sigma_{u}^2=1.25$ e $\\sigma_{v}^2=1$."
   ]
  },
  {
   "attachments": {},
   "cell_type": "markdown",
   "metadata": {},
   "source": [
    "Agora vamos fazer a estimação via Bootstrap, com 1000 reamostragens."
   ]
  },
  {
   "cell_type": "code",
   "execution_count": 21,
   "metadata": {},
   "outputs": [],
   "source": [
    "# gerando matrizes nulas para o procedimento de bootstrap\n",
    "Bootstrap_x1 = np.zeros((1000, n))\n",
    "Bootstrap_x2 = np.zeros((1000, n))\n",
    "Bootstrap_x3 = np.zeros((1000, n))\n",
    "Bootstrap_y1 = np.zeros((1000, n))\n",
    "Bootstrap_y2 = np.zeros((1000, n))\n",
    "\n",
    "estimadores_mle = np.zeros((1000, 9))"
   ]
  },
  {
   "cell_type": "code",
   "execution_count": 22,
   "metadata": {},
   "outputs": [],
   "source": [
    "# Bootstrap\n",
    "index = np.arange(0, n)       # criando um vetor de índices de 1 à 100\n",
    "\n",
    "\n",
    "for i in range(1000):          \n",
    "    random_index = np.random.choice(index, replace = True, size = n)      # escolhe um índice do vetor de índices aleatóriamente, com reposição, 100 vezes\n",
    "    for j in range(n):\n",
    "        Bootstrap_x1[i][j] = x1[random_index[j]]\n",
    "        Bootstrap_x2[i][j] = x2[random_index[j]]\n",
    "        Bootstrap_x3[i][j] = x3[random_index[j]]\n",
    "        Bootstrap_y1[i][j] = y1[random_index[j]]\n",
    "        Bootstrap_y2[i][j] = y2[random_index[j]]\n",
    "    estimadores_mle[[i]] = estimadores( Bootstrap_x1[i],\n",
    "                                        Bootstrap_x2[i],\n",
    "                                        Bootstrap_x3[i],\n",
    "                                        Bootstrap_y1[i],\n",
    "                                        Bootstrap_y2[i],\n",
    "                                        [0, 0, 0, 0, 0, 0, 0, 0, 0])"
   ]
  },
  {
   "cell_type": "code",
   "execution_count": 23,
   "metadata": {},
   "outputs": [],
   "source": [
    "# função de intervalo de confiança\n",
    "def intervalo_de_confianca(data):\n",
    "    a = np.array(data)\n",
    "    n = len(a)\n",
    "    m, dp = np.mean(a), stats.sem(a)\n",
    "    lower_cutoff = stats.t.ppf(0.025, n - 1, loc = m, scale = dp)\n",
    "    upper_cutoff = stats.t.ppf(0.975, n - 1, loc = m, scale = dp)\n",
    "    return lower_cutoff, upper_cutoff"
   ]
  },
  {
   "cell_type": "code",
   "execution_count": 24,
   "metadata": {},
   "outputs": [
    {
     "data": {
      "text/html": [
       "<div>\n",
       "<style scoped>\n",
       "    .dataframe tbody tr th:only-of-type {\n",
       "        vertical-align: middle;\n",
       "    }\n",
       "\n",
       "    .dataframe tbody tr th {\n",
       "        vertical-align: top;\n",
       "    }\n",
       "\n",
       "    .dataframe thead th {\n",
       "        text-align: right;\n",
       "    }\n",
       "</style>\n",
       "<table border=\"1\" class=\"dataframe\">\n",
       "  <thead>\n",
       "    <tr style=\"text-align: right;\">\n",
       "      <th></th>\n",
       "      <th>Média</th>\n",
       "      <th>Mediana</th>\n",
       "      <th>Variância</th>\n",
       "      <th>Máximo</th>\n",
       "      <th>Mínimo</th>\n",
       "      <th>IC Inferior</th>\n",
       "      <th>IC Superior</th>\n",
       "    </tr>\n",
       "  </thead>\n",
       "  <tbody>\n",
       "    <tr>\n",
       "      <th>γ</th>\n",
       "      <td>-153.110425</td>\n",
       "      <td>0.627129</td>\n",
       "      <td>4.421667e+06</td>\n",
       "      <td>2292.452231</td>\n",
       "      <td>-47727.746265</td>\n",
       "      <td>-283.662819</td>\n",
       "      <td>-22.558030</td>\n",
       "    </tr>\n",
       "    <tr>\n",
       "      <th>β_1</th>\n",
       "      <td>13.922928</td>\n",
       "      <td>-0.082219</td>\n",
       "      <td>4.483687e+04</td>\n",
       "      <td>3955.336757</td>\n",
       "      <td>-1064.103401</td>\n",
       "      <td>0.776448</td>\n",
       "      <td>27.069408</td>\n",
       "    </tr>\n",
       "    <tr>\n",
       "      <th>β_2</th>\n",
       "      <td>89.676809</td>\n",
       "      <td>-0.559341</td>\n",
       "      <td>2.549210e+06</td>\n",
       "      <td>29546.951207</td>\n",
       "      <td>-14306.605601</td>\n",
       "      <td>-9.450794</td>\n",
       "      <td>188.804411</td>\n",
       "    </tr>\n",
       "    <tr>\n",
       "      <th>π_1</th>\n",
       "      <td>0.120115</td>\n",
       "      <td>0.115594</td>\n",
       "      <td>1.394548e-01</td>\n",
       "      <td>5.029977</td>\n",
       "      <td>-3.551716</td>\n",
       "      <td>0.096930</td>\n",
       "      <td>0.143300</td>\n",
       "    </tr>\n",
       "    <tr>\n",
       "      <th>π_2</th>\n",
       "      <td>1.345456</td>\n",
       "      <td>0.886092</td>\n",
       "      <td>2.287400e+00</td>\n",
       "      <td>12.439353</td>\n",
       "      <td>0.214996</td>\n",
       "      <td>1.251557</td>\n",
       "      <td>1.439355</td>\n",
       "    </tr>\n",
       "    <tr>\n",
       "      <th>π_3</th>\n",
       "      <td>1.674537</td>\n",
       "      <td>1.136274</td>\n",
       "      <td>3.218099e+00</td>\n",
       "      <td>14.712166</td>\n",
       "      <td>0.719156</td>\n",
       "      <td>1.563161</td>\n",
       "      <td>1.785913</td>\n",
       "    </tr>\n",
       "  </tbody>\n",
       "</table>\n",
       "</div>"
      ],
      "text/plain": [
       "          Média   Mediana     Variância        Máximo        Mínimo  \\\n",
       "γ   -153.110425  0.627129  4.421667e+06   2292.452231 -47727.746265   \n",
       "β_1   13.922928 -0.082219  4.483687e+04   3955.336757  -1064.103401   \n",
       "β_2   89.676809 -0.559341  2.549210e+06  29546.951207 -14306.605601   \n",
       "π_1    0.120115  0.115594  1.394548e-01      5.029977     -3.551716   \n",
       "π_2    1.345456  0.886092  2.287400e+00     12.439353      0.214996   \n",
       "π_3    1.674537  1.136274  3.218099e+00     14.712166      0.719156   \n",
       "\n",
       "     IC Inferior  IC Superior  \n",
       "γ    -283.662819   -22.558030  \n",
       "β_1     0.776448    27.069408  \n",
       "β_2    -9.450794   188.804411  \n",
       "π_1     0.096930     0.143300  \n",
       "π_2     1.251557     1.439355  \n",
       "π_3     1.563161     1.785913  "
      ]
     },
     "execution_count": 24,
     "metadata": {},
     "output_type": "execute_result"
    }
   ],
   "source": [
    "# Tabela com os estimadores de mle de Bootstrap\n",
    "beta_bootstrap_mle_normal = pd.DataFrame([[np.mean(estimadores_mle[:,0]), np.median(estimadores_mle[:,0]), np.var(estimadores_mle[:,0]), np.max(estimadores_mle[:,0]), np.min(estimadores_mle[:,0]), intervalo_de_confianca(estimadores_mle[:,0])[0], intervalo_de_confianca(estimadores_mle[:,0])[1]],\n",
    "                                          [np.mean(estimadores_mle[:,1]), np.median(estimadores_mle[:,1]), np.var(estimadores_mle[:,1]), np.max(estimadores_mle[:,1]), np.min(estimadores_mle[:,1]), intervalo_de_confianca(estimadores_mle[:,1])[0], intervalo_de_confianca(estimadores_mle[:,1])[1]],\n",
    "                                          [np.mean(estimadores_mle[:,2]), np.median(estimadores_mle[:,2]), np.var(estimadores_mle[:,2]), np.max(estimadores_mle[:,2]), np.min(estimadores_mle[:,2]), intervalo_de_confianca(estimadores_mle[:,2])[0], intervalo_de_confianca(estimadores_mle[:,2])[1]],\n",
    "                                          [np.mean(estimadores_mle[:,3]), np.median(estimadores_mle[:,3]), np.var(estimadores_mle[:,3]), np.max(estimadores_mle[:,3]), np.min(estimadores_mle[:,3]), intervalo_de_confianca(estimadores_mle[:,3])[0], intervalo_de_confianca(estimadores_mle[:,3])[1]],\n",
    "                                          [np.mean(estimadores_mle[:,4]), np.median(estimadores_mle[:,4]), np.var(estimadores_mle[:,4]), np.max(estimadores_mle[:,4]), np.min(estimadores_mle[:,4]), intervalo_de_confianca(estimadores_mle[:,4])[0], intervalo_de_confianca(estimadores_mle[:,4])[1]],\n",
    "                                          [np.mean(estimadores_mle[:,5]), np.median(estimadores_mle[:,5]), np.var(estimadores_mle[:,5]), np.max(estimadores_mle[:,5]), np.min(estimadores_mle[:,5]), intervalo_de_confianca(estimadores_mle[:,5])[0], intervalo_de_confianca(estimadores_mle[:,5])[1]]],\n",
    "                                        columns=['Média', 'Mediana', 'Variância', 'Máximo', 'Mínimo', 'IC Inferior', 'IC Superior'], \n",
    "                                        index=['γ', 'β_1', 'β_2', 'π_1', 'π_2', 'π_3'])\n",
    "beta_bootstrap_mle_normal"
   ]
  },
  {
   "attachments": {},
   "cell_type": "markdown",
   "metadata": {},
   "source": [
    "Os resultados esperados eram $\\gamma=1$, $\\beta_1=0$, $\\beta_2=-1$, $\\pi_1=0$, $\\pi_2=1$ e $\\pi_3=1$"
   ]
  },
  {
   "cell_type": "code",
   "execution_count": 25,
   "metadata": {},
   "outputs": [],
   "source": [
    "# Plots\n",
    "plt.figure(figsize=(10, 8), dpi=80)\n",
    "sns.histplot((estimadores_mle[:,0]), kde=True, binwidth=0.1, stat='density').set_title('Parâmetro $γ$')\n",
    "plt.legend(title='Dados', loc='upper right', labels=['$γ$'])"
   ]
  },
  {
   "attachments": {},
   "cell_type": "markdown",
   "metadata": {},
   "source": [
    "$\\gamma=1$"
   ]
  },
  {
   "cell_type": "code",
   "execution_count": null,
   "metadata": {},
   "outputs": [
    {
     "data": {
      "text/plain": [
       "<matplotlib.legend.Legend at 0x26555767d60>"
      ]
     },
     "execution_count": 114,
     "metadata": {},
     "output_type": "execute_result"
    },
    {
     "data": {
      "image/png": "[encoded data removed]",
      "text/plain": [
       "<Figure size 800x640 with 1 Axes>"
      ]
     },
     "metadata": {},
     "output_type": "display_data"
    }
   ],
   "source": [
    "# Plots\n",
    "plt.figure(figsize=(10, 8), dpi=80)\n",
    "sns.histplot((estimadores_mle[:,1]), kde=True, binwidth=0.1, stat='density').set_title('Parâmetro $β_1$')\n",
    "plt.legend(title='Dados', loc='upper right', labels=['$β_1$'])"
   ]
  },
  {
   "attachments": {},
   "cell_type": "markdown",
   "metadata": {},
   "source": [
    "$\\beta_1=0$"
   ]
  },
  {
   "cell_type": "code",
   "execution_count": null,
   "metadata": {},
   "outputs": [
    {
     "data": {
      "text/plain": [
       "<matplotlib.legend.Legend at 0x26555a6b4c0>"
      ]
     },
     "execution_count": 115,
     "metadata": {},
     "output_type": "execute_result"
    },
    {
     "data": {
      "image/png": "[encoded data removed]",
      "text/plain": [
       "<Figure size 800x640 with 1 Axes>"
      ]
     },
     "metadata": {},
     "output_type": "display_data"
    }
   ],
   "source": [
    "# Plots\n",
    "plt.figure(figsize=(10, 8), dpi=80)\n",
    "sns.histplot((estimadores_mle[:,2]), kde=True, binwidth=0.1, stat='density').set_title('Parâmetro $β_2$')\n",
    "plt.legend(title='Dados', loc='upper right', labels=['$β_2$'])"
   ]
  },
  {
   "attachments": {},
   "cell_type": "markdown",
   "metadata": {},
   "source": [
    "$\\beta_2=-1$"
   ]
  },
  {
   "cell_type": "code",
   "execution_count": null,
   "metadata": {},
   "outputs": [
    {
     "data": {
      "text/plain": [
       "<matplotlib.legend.Legend at 0x26556e9c760>"
      ]
     },
     "execution_count": 116,
     "metadata": {},
     "output_type": "execute_result"
    },
    {
     "data": {
      "image/png": "[encoded data removed]",
      "text/plain": [
       "<Figure size 800x640 with 1 Axes>"
      ]
     },
     "metadata": {},
     "output_type": "display_data"
    }
   ],
   "source": [
    "# Plots\n",
    "plt.figure(figsize=(10, 8), dpi=80)\n",
    "sns.histplot((estimadores_mle[:,3]), kde=True, binwidth=0.1, stat='density').set_title('Parâmetro $π_1$')\n",
    "plt.legend(title='Dados', loc='upper right', labels=['$π_1$'])"
   ]
  },
  {
   "attachments": {},
   "cell_type": "markdown",
   "metadata": {},
   "source": [
    "$\\pi_1=0$"
   ]
  },
  {
   "cell_type": "code",
   "execution_count": null,
   "metadata": {},
   "outputs": [
    {
     "data": {
      "text/plain": [
       "<matplotlib.legend.Legend at 0x26555a88220>"
      ]
     },
     "execution_count": 117,
     "metadata": {},
     "output_type": "execute_result"
    },
    {
     "data": {
      "image/png": "[encoded data removed]",
      "text/plain": [
       "<Figure size 800x640 with 1 Axes>"
      ]
     },
     "metadata": {},
     "output_type": "display_data"
    }
   ],
   "source": [
    "# Plots\n",
    "plt.figure(figsize=(10, 8), dpi=80)\n",
    "sns.histplot((estimadores_mle[:,4]), kde=True, binwidth=0.1, stat='density').set_title('Parâmetro $π_2$')\n",
    "plt.legend(title='Dados', loc='upper right', labels=['$π_2$'])"
   ]
  },
  {
   "attachments": {},
   "cell_type": "markdown",
   "metadata": {},
   "source": [
    "$\\pi_2=1$"
   ]
  },
  {
   "cell_type": "code",
   "execution_count": null,
   "metadata": {},
   "outputs": [
    {
     "data": {
      "text/plain": [
       "<matplotlib.legend.Legend at 0x26556fd9780>"
      ]
     },
     "execution_count": 118,
     "metadata": {},
     "output_type": "execute_result"
    },
    {
     "data": {
      "image/png": "[encoded data removed]",
      "text/plain": [
       "<Figure size 800x640 with 1 Axes>"
      ]
     },
     "metadata": {},
     "output_type": "display_data"
    }
   ],
   "source": [
    "# Plots\n",
    "plt.figure(figsize=(10, 8), dpi=80)\n",
    "sns.histplot((estimadores_mle[:,5]), kde=True, binwidth=0.1, stat='density').set_title('Parâmetro $π_3$')\n",
    "plt.legend(title='Dados', loc='upper right', labels=['$π_3$'])"
   ]
  },
  {
   "attachments": {},
   "cell_type": "markdown",
   "metadata": {},
   "source": [
    "$\\pi_3=1$"
   ]
  },
  {
   "attachments": {},
   "cell_type": "markdown",
   "metadata": {},
   "source": [
    "### (c) (1.0) Proponha um método de estimação alternativo em dois passos, que permita testar a hipótese de endogeneidade no modelo. Descreva o método de estimação e, se houver, a função de verossimilhança."
   ]
  },
  {
   "attachments": {},
   "cell_type": "markdown",
   "metadata": {},
   "source": [
    "Rivers and Vuong (JoE 1988) oferecem um método alternativo ao anterior que consiste em dois passos:\n",
    "\n",
    "- OLS de $y_2$ em $x1$, $x_2$ e $x_3$, e extrair os resíduos $\\hat{v}$\n",
    "- Probit de $y_1$ em $y_2$, $x_1$, $x_2$ e $\\hat{v}$\n",
    "\n",
    "$H_0$ : $\\xi = 0$ é um teste simples para endogeneidade, onde $\\xi$ é o coeficiente de $v$ no segundo estágio."
   ]
  },
  {
   "attachments": {},
   "cell_type": "markdown",
   "metadata": {},
   "source": [
    "Para escrever a verossimilhança temos que partir do seguinte\n",
    "\n",
    "$$\n",
    "y_{1 i}^*=\\alpha_1 y_{2 i}+\\alpha_2 x_{1 i}+\\alpha_3 x_{2 i}+ \\xi\\hat{v}_i + \\epsilon\n",
    "$$\n",
    "\n",
    "onde $\\epsilon \\sim \\mathcal{N}(0,\\sigma_{\\epsilon}^2)$ e\n",
    "\n",
    "$$\n",
    "y_{1 i}=\\mathbb{I}\\left(y_{1 i}^*>0\\right)\n",
    "$$"
   ]
  },
  {
   "attachments": {},
   "cell_type": "markdown",
   "metadata": {},
   "source": [
    "Da mesma forma que foi feito em (a), criamos a log-likelihood.\n",
    "\n",
    "$$\n",
    "\\begin{aligned}\n",
    "\\mathbb{P}(y_{1 i} = 1| y_{2 i}, x_i, \\hat{v}_i) &= \\mathbb{P}(y_{1 i}^* > 0| y_{2 i}, x_i, \\hat{v}_i)\\\\\n",
    "\n",
    "&= \\mathbb{P}(\\alpha_1 y_{2 i} + \\alpha_2 x_{1 i} + \\alpha_3 x_{2 i} + \\xi \\hat{v}_i + \\epsilon > 0 |y_{2 i}, x_i, \\hat{v}_i) \\\\\n",
    "\n",
    "&= \\mathbb{P}( \\epsilon > - \\left[\\alpha_1 y_{2 i} + \\alpha_2 x_{1 i} + \\alpha_3 x_{2 i} + \\xi \\hat{v}_i\\right]) \\\\\n",
    "\n",
    "&= \\mathbb{P}( \\epsilon < \\alpha_1 y_{2 i} + \\alpha_2 x_{1 i} + \\alpha_3 x_{2 i} + \\xi \\hat{v}_i) \\\\\n",
    "\n",
    "&= \\mathbb{P}\\left( \\frac{\\epsilon}{\\sigma_{\\epsilon}} < \\frac{\\alpha_1 y_{2 i} + \\alpha_2 x_{1 i} + \\alpha_3 x_{2 i} + \\xi \\hat{v}_i}{\\sigma_{\\epsilon}} \\right) \\\\\n",
    "\n",
    "&=\\Phi\\left(\\frac{\\alpha_1 y_{2 i} + \\alpha_2 x_{1 i} + \\alpha_3 x_{2 i} + \\xi \\hat{v}_i}{\\sigma_{\\epsilon}} \\right) \\\\\n",
    "\\end{aligned}\n",
    "$$\n",
    "\n"
   ]
  },
  {
   "attachments": {},
   "cell_type": "markdown",
   "metadata": {},
   "source": [
    "Defina \n",
    "$$\n",
    "\\Phi(z) =\\Phi\\left(\\frac{\\alpha_1 y_{2 i} + \\alpha_2 x_{1 i} + \\alpha_3 x_{2 i} + \\xi \\hat{v}_i}{\\sigma_{\\epsilon}} \\right)\n",
    "$$"
   ]
  },
  {
   "attachments": {},
   "cell_type": "markdown",
   "metadata": {},
   "source": [
    "Como $y_{1 i} \\in \\{0, 1\\}$, então\n",
    "\n",
    "$$\n",
    "\\begin{aligned}\n",
    "f(y_{1 i}|y_{2 i}, x_i, \\hat{v}_i) &= \\mathbb{P}(y_{1 i} = 1| y_{2 i}, x_i, \\hat{v}_i)^{y_{1 i}}\\left[1 - \\mathbb{P}(y_{1 i} = 1| y_{2 i}, x_i, \\hat{v}_i)\\right]^{(1-y_{1 i})} \\\\\n",
    "&= \\left[\\Phi(z)\\right]^{y_{1 i}}\\left[1 - \\Phi(z)\\right]^{(1 - y_{1 i})}\n",
    "\\end{aligned}\n",
    "$$"
   ]
  },
  {
   "attachments": {},
   "cell_type": "markdown",
   "metadata": {},
   "source": [
    "Portanto a Likelihood é \n",
    "\n",
    "$$\n",
    "\\mathcal{L} = \\prod_{i=1}^n f(y_{1 i}, y_{2 i}| x_i)\n",
    "$$\n",
    "\n",
    "e a Log-Likelihood é\n",
    "\n",
    "$$\n",
    "\\begin{aligned}\n",
    "\\ln(\\mathcal{L}) &= \\sum_{i=1}^n \\ln\\left[f(y_{1 i}, y_{2 i}| x_i)\\right] \\\\\n",
    "&= \\sum_{i=1}^n y_{1 i} \\ln\\left[\\Phi(z)\\right] + (1 - y_{1 i}) \\ln\\left[1 - \\Phi(z)\\right] \\\\\n",
    "&= \\sum_{i=1}^n y_{1 i} \\ln\\left[\\Phi\\left(\\frac{\\alpha_1 y_{2 i} + \\alpha_2 x_{1 i} + \\alpha_3 x_{2 i} + \\xi \\hat{v}_i}{\\sigma_{\\epsilon}} \\right)\\right] + (1 - y_{1 i}) \\ln\\left[1 - \\Phi\\left(\\frac{\\alpha_1 y_{2 i} + \\alpha_2 x_{1 i} + \\alpha_3 x_{2 i} + \\xi \\hat{v}_i}{\\sigma_{\\epsilon}} \\right)\\right]\n",
    "\\end{aligned}\n",
    "$$"
   ]
  },
  {
   "attachments": {},
   "cell_type": "markdown",
   "metadata": {},
   "source": [
    "### (d) (1.4) Implemente a estimação do item (c) usando o mesmo processo de geração do item (b). Obtenha as estimativas dos parâmetros $\\left(\\gamma, \\beta_1, \\beta_2, \\pi_1, \\pi_2, \\pi_3\\right)$ e intervalos de confiança de $95 \\%$ via bootstrap."
   ]
  },
  {
   "attachments": {},
   "cell_type": "markdown",
   "metadata": {},
   "source": [
    "O primeiro passo consiste em obter os resíduos estimados por OLS da seguinte regressão\n",
    "$$\n",
    "y_{2 i}=\\pi_1 x_{1 i}+\\pi_2 x_{2 i}+\\pi_3 x_{3 i}+v_i\n",
    "$$"
   ]
  },
  {
   "cell_type": "code",
   "execution_count": null,
   "metadata": {},
   "outputs": [],
   "source": [
    "df = pd.DataFrame({'x1':x1, 'x2':x2, 'x3':x3, 'y1':y1, 'y2':y2})"
   ]
  },
  {
   "cell_type": "code",
   "execution_count": null,
   "metadata": {},
   "outputs": [],
   "source": [
    "ols = pd.DataFrame()\n",
    "\n",
    "ols['y'] = df['y2']\n",
    "ols['x1'] = df['x1']\n",
    "ols['x2'] = df['x2']\n",
    "ols['x3'] = df['x3']\n",
    "\n",
    "result = sm.ols(formula=\"y ~ x1 + x2 + x3\", data=ols).fit()"
   ]
  },
  {
   "cell_type": "code",
   "execution_count": null,
   "metadata": {},
   "outputs": [
    {
     "name": "stdout",
     "output_type": "stream",
     "text": [
      "                            OLS Regression Results                            \n",
      "==============================================================================\n",
      "Dep. Variable:                      y   R-squared:                       0.790\n",
      "Model:                            OLS   Adj. R-squared:                  0.786\n",
      "Method:                 Least Squares   F-statistic:                     183.0\n",
      "Date:                Wed, 14 Dec 2022   Prob (F-statistic):           1.20e-33\n",
      "Time:                        20:21:52   Log-Likelihood:                -146.87\n",
      "No. Observations:                 100   AIC:                             299.7\n",
      "Df Residuals:                      97   BIC:                             307.6\n",
      "Df Model:                           2                                         \n",
      "Covariance Type:            nonrobust                                         \n",
      "==============================================================================\n",
      "                 coef    std err          t      P>|t|      [0.025      0.975]\n",
      "------------------------------------------------------------------------------\n",
      "Intercept     -0.0182      0.054     -0.339      0.735      -0.125       0.088\n",
      "x1            -0.0182      0.054     -0.339      0.735      -0.125       0.088\n",
      "x2             1.0141      0.130      7.784      0.000       0.756       1.273\n",
      "x3             1.1299      0.121      9.359      0.000       0.890       1.369\n",
      "==============================================================================\n",
      "Omnibus:                        5.290   Durbin-Watson:                   1.422\n",
      "Prob(Omnibus):                  0.071   Jarque-Bera (JB):                2.874\n",
      "Skew:                          -0.174   Prob(JB):                        0.238\n",
      "Kurtosis:                       2.246   Cond. No.                     3.12e+15\n",
      "==============================================================================\n",
      "\n",
      "Notes:\n",
      "[1] Standard Errors assume that the covariance matrix of the errors is correctly specified.\n",
      "[2] The smallest eigenvalue is 2.07e-29. This might indicate that there are\n",
      "strong multicollinearity problems or that the design matrix is singular.\n"
     ]
    }
   ],
   "source": [
    "print(result.summary())"
   ]
  },
  {
   "cell_type": "code",
   "execution_count": null,
   "metadata": {},
   "outputs": [],
   "source": [
    "v_chapeu = np.array(result.resid)"
   ]
  },
  {
   "attachments": {},
   "cell_type": "markdown",
   "metadata": {},
   "source": [
    "$$\n",
    "\\begin{aligned}\n",
    "\\ln(\\mathcal{L}) = \\sum_{i=1}^n y_{1 i} \\ln\\left[\\Phi\\left(\\frac{\\alpha_1 y_{2 i} + \\alpha_2 x_{1 i} + \\alpha_3 x_{2 i} + \\xi \\hat{v}_i}{\\sigma_{\\epsilon}^2} \\right)\\right] + (1 - y_{1 i}) \\ln\\left[1 - \\Phi\\left(\\frac{\\alpha_1 y_{2 i} + \\alpha_2 x_{1 i} + \\alpha_3 x_{2 i} + \\xi \\hat{v}_i}{\\sigma_{\\epsilon}^2} \\right)\\right]\n",
    "\\end{aligned}\n",
    "$$"
   ]
  },
  {
   "cell_type": "code",
   "execution_count": null,
   "metadata": {},
   "outputs": [],
   "source": [
    "def mle_probit(parametros, x1, x2, y1, y2, v_chapeu):\n",
    "   alpha_1, alpha_2, alpha_3, xi, sigma2_e = parametros # parametros (são os outputs futuros do problema de otimização)\n",
    "   # vamos criar z\n",
    "   z = np.zeros(100)\n",
    "   z = ( alpha_1 * y2 + alpha_2 * x1 + alpha_3 * x2 + xi * v_chapeu ) / ( sigma2_e**(1/2) ) \n",
    "   # e agora a LogLikelihood LL\n",
    "   ln_pdf = y1 * np.log( norm.cdf( z ) ) + ( 1 - y1 ) * np.log( 1 - norm.cdf( z ) )\n",
    "   LL = (ln_pdf).sum()\n",
    "   # Calcula o negativo da log-likelihood\n",
    "   neg_LL = -LL\n",
    "   return neg_LL"
   ]
  },
  {
   "cell_type": "code",
   "execution_count": null,
   "metadata": {},
   "outputs": [],
   "source": [
    "# função de otimização\n",
    "def estimadores_probit(x1, x2, y1, y2, v_chapeu, chute_inicial):\n",
    "    \"\"\"\n",
    "    Calcula os valores que minimiza a função de verossimilhançaa dada a amostra\n",
    "    :param x: valores de x da amostra de tamanho n\n",
    "    :param y: valores de y da amostra de tamanho n\n",
    "    :param v_chapeu: valores de v_chapeu da amostra de tamanho n\n",
    "    :param chute_inicial: chute inicial na forma (alpha_1, alpha_2, alpha_3, xi, sigma2_e)\n",
    "    :return: tupla com os valores ótimos (alpha_1, alpha_2, alpha_3, xi, sigma2_e)\n",
    "    \"\"\"\n",
    "    estimadores_probit = minimize(mle_probit,\n",
    "        x0=chute_inicial,\n",
    "        args=(x1, x2, y1, y2, v_chapeu),\n",
    "        bounds=((None, None), (None, None), (None, None), (None, None), (0.0001, None)),\n",
    "        method = 'L-BFGS-B'\n",
    "        ).x\n",
    "    return estimadores_probit"
   ]
  },
  {
   "cell_type": "code",
   "execution_count": null,
   "metadata": {},
   "outputs": [
    {
     "data": {
      "text/plain": [
       "array([ 1.28463154, -0.21702179, -1.52405831,  0.34652077,  0.97958378])"
      ]
     },
     "execution_count": 78,
     "metadata": {},
     "output_type": "execute_result"
    }
   ],
   "source": [
    "chute = [0, 0, 0, 0, 1]\n",
    "estimadores_probit(x1, x2, y1, y2, v_chapeu, chute)"
   ]
  },
  {
   "cell_type": "code",
   "execution_count": null,
   "metadata": {},
   "outputs": [],
   "source": []
  }
 ],
 "metadata": {
  "kernelspec": {
   "display_name": "Python 3",
   "language": "python",
   "name": "python3"
  },
  "language_info": {
   "codemirror_mode": {
    "name": "ipython",
    "version": 3
   },
   "file_extension": ".py",
   "mimetype": "text/x-python",
   "name": "python",
   "nbconvert_exporter": "python",
   "pygments_lexer": "ipython3",
   "version": "3.10.2"
  },
  "orig_nbformat": 4,
  "vscode": {
   "interpreter": {
    "hash": "c63d8c7d738c2960218a10995aedf0a7f67a49a231e71037adf0440953cdb45b"
   }
  }
 },
 "nbformat": 4,
 "nbformat_minor": 2
}
