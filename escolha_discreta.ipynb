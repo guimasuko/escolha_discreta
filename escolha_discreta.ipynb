{
 "cells": [
  {
   "cell_type": "code",
   "execution_count": 1,
   "metadata": {},
   "outputs": [],
   "source": [
    "import numpy as np\n",
    "import matplotlib.pyplot as plt\n",
    "import pandas as pd\n",
    "import seaborn as sns\n",
    "import statistics\n",
    "import random\n",
    "import math\n",
    "import warnings\n",
    "from scipy import stats\n",
    "from scipy.optimize import minimize"
   ]
  },
  {
   "cell_type": "markdown",
   "metadata": {},
   "source": [
    "Questão 1. ( $5.0$ pontos)\n",
    "Considere o modelo latente a seguir:\n",
    "$$\n",
    "\\begin{aligned}\n",
    "&y_{1 i}^*=\\gamma y_{2 i}+\\beta_1 x_{1 i}+\\beta_2 x_{2 i}+u_i \\\\\n",
    "&y_{2 i}=\\pi_1 x_{1 i}+\\pi_2 x_{2 i}+\\pi_3 x_{3 i}+v_i\n",
    "\\end{aligned}\n",
    "$$\n",
    "onde o econometrista observa\n",
    "$$\n",
    "y_{1 i}=\\mathbb{I}\\left(y_{1 i}^*>0\\right),\n",
    "$$\n",
    "sendo $\\mathbb{I}\\left(y_{1 i}^*>0\\right)$ uma função indicadora com valor igual a 1 caso $y_{1 i}^*>0$ e 0 caso contrário. As seguintes propriedades são válidas:"
   ]
  },
  {
   "cell_type": "markdown",
   "metadata": {},
   "source": [
    "\n",
    "* $\\left(u_i, v_i\\right)$ tem média zero, distribuição normal, independente de $x_i=\\left(x_{1 i}, x_{2 i}, x_{3 i}\\right)$;\n",
    "\n",
    "* $u_i=\\lambda v_i+\\eta_i$, onde $\\left(v_i, \\eta_i\\right)$ são independentes com distribuição normal padrão.\n",
    "\n",
    "Para o exercício de simulação abaixo, considere o seguinte processo de geração de dados: $x_{1 i}$ é um termo constante, $(x_{2 i}, x_{3 i})$ vem de distribuições normais multivariada equicorrelacionadas, com médias zeros, variancias unitárias e covariância de 0.5. Os parâmetros são definidos como:\n",
    "\n",
    "\n",
    "* $\\gamma=1$ \n",
    "* $\\beta_1=0$\n",
    "* $\\beta_2=-1$\n",
    "* $\\pi_1=0$\n",
    "* $\\pi_2=1$\n",
    "* $\\pi_3=1$\n",
    "* $\\lambda = 0.5$\n",
    "* $n=100$ \n",
    "\n",
    "onde $n$ é o tamanho da amostra. Construa o se próprio código para as stimações abaixo, não use os comandos do software."
   ]
  },
  {
   "cell_type": "markdown",
   "metadata": {},
   "source": [
    "$\\textbf{(a)} (1.0)$ Proponha um método de estimação para o problema acima baseado na densidade conjunta de $f\\left(y_{1 i}, y_{2 i} \\mid x_i\\right)$. Obtenha a função de verossimilhança para a estimação."
   ]
  },
  {
   "cell_type": "markdown",
   "metadata": {},
   "source": [
    "Sabemos que\n",
    "\n",
    "$$\n",
    "f(y_{1i}, y_{2i}|x_i) = f(y_{1i}|y_{2i}, x_i)\\cdot f(y_{2i}|x_i)\n",
    "$$\n",
    "\n",
    "Então precisamos encontrar $f(y_{1i}|y_{2i}, x_i)$ e $f(y_{2i}|x_i)$. Primeiro encontraremos $f(y_{2i}|x_i)$."
   ]
  },
  {
   "cell_type": "markdown",
   "metadata": {},
   "source": [
    "Pelo enunciado, temos a seguinte estrutura entre os erros\n",
    "\n",
    "$$\n",
    "\\left(\\begin{array}{l}\n",
    "u_i \\\\\n",
    "v_i\n",
    "\\end{array}\\right) \\sim \\operatorname{NID}\\left[\\left(\\begin{array}{l}\n",
    "0 \\\\\n",
    "0\n",
    "\\end{array}\\right),\\left(\\begin{array}{ll}\n",
    "\\sigma_{u}^2 & \\sigma_{u v} \\\\\n",
    "\\sigma_{v u} & \\sigma_{v}^2\n",
    "\\end{array}\\right)\\right]\n",
    "$$"
   ]
  },
  {
   "cell_type": "markdown",
   "metadata": {},
   "source": [
    "Utilizando as propriedades da normal multivariada, temos os seguintes resultados\n",
    "\n",
    "* Distribuição marginal\n",
    "\n",
    "$$\n",
    "\\mathbb{D}(u_i) = \\mathcal{N}(0, \\sigma_u^2)\\\\\n",
    "\\mathbb{D}(v_i) = \\mathcal{N}(0, \\sigma_v^2)\n",
    "$$\n",
    "\n",
    "* Distribuição Condicional\n",
    "$$\n",
    "\\mathbb{D}(u_i | v_i) = \\mathcal{N}\\left(\\frac{\\sigma{u v}}{\\sigma_v^2}v_i, \\sigma_u^2 - \\frac{\\sigma{u v}^2}{\\sigma_v^2}\\right)\\\\\n",
    "\\mathbb{D}(v_i | u_i) = \\mathcal{N}\\left(\\frac{\\sigma{v u}}{\\sigma_u^2}u_i, \\sigma_v^2 - \\frac{\\sigma{v u}^2}{\\sigma_u^2}\\right)\\\\\n",
    "$$\n"
   ]
  },
  {
   "cell_type": "markdown",
   "metadata": {},
   "source": [
    "Partindo então de $y_{2 i}=\\pi_1 x_{1 i}+\\pi_2 x_{2 i}+\\pi_3 x_{3 i}+v_i$, temos\n",
    "\n",
    "$$\n",
    "\\mathbb{E}[y_{2 i}| x_i] = \\pi_1 x_{1 i}+\\pi_2 x_{2 i}+\\pi_3 x_{3 i} \\\\\n",
    "\\mathbb{V}[y_{2 i}| x_i] = \\mathbb{V}[v_i | x_i] = \\mathbb{V}[v_i] = 1\n",
    "$$\n",
    "\n",
    "Portanto\n",
    "\n",
    "$$\n",
    "\\mathbb{D}(y_{2 i}|x_i) = \\mathcal{N}\\left(\\pi_1 x_{1 i}+\\pi_2 x_{2 i}+\\pi_3 x_{3 i}, 1\\right)\n",
    "$$"
   ]
  },
  {
   "cell_type": "markdown",
   "metadata": {},
   "source": [
    "Isso significa que\n",
    "\n",
    "$$\n",
    "\\begin{aligned}\n",
    "f(y_{2 i}| x_i) &= \\frac{1}{\\sqrt{2 \\pi}}\\exp{\\left(-\\frac{1}{2}\\left(y_{2 i} - \\left(\\pi_1 x_{1 i}+\\pi_2 x_{2 i}+\\pi_3 x_{3 i}\\right)\\right)\\right)} \\\\\n",
    "&=\\phi\\left(y_{2 i} - \\left(\\pi_1 x_{1 i}+\\pi_2 x_{2 i}+\\pi_3 x_{3 i}\\right)\\right)\n",
    "\\end{aligned}\n",
    "$$\n",
    "\n",
    "onde $\\phi(\\cdot)$ é a pdf de uma distribuição normal padronizada"
   ]
  },
  {
   "cell_type": "markdown",
   "metadata": {},
   "source": [
    "Agora precisamos definir $f(y_{1i}|y_{2i}, x_i)$\n",
    "\n",
    "Primeiro, sabemos que $u_i = \\lambda v_i + \\eta_i$ onde \n",
    "* $v_i \\sim \\mathcal{N}(0,1)$\n",
    "* $\\eta_i \\sim \\mathcal{N}(0,1)$ \n",
    "* $v_i \\perp \\!\\!\\! \\perp \\eta_i$\n",
    "\n",
    "e\n",
    "\n",
    "$$\n",
    "\\lambda = \\frac{\\mathbb{C}[v_i, u_i]}{\\mathbb{V}[v_i]} = \\mathbb{C}[v_i, u_i] = \\sigma_{v u}\n",
    "$$"
   ]
  },
  {
   "cell_type": "markdown",
   "metadata": {},
   "source": [
    "Reescrevendo \n",
    "\n",
    "$$\n",
    "\\begin{aligned}\n",
    "y_{1 i}^* &=\\gamma y_{2 i}+\\beta_1 x_{1 i}+\\beta_2 x_{2 i}+u_i \\\\\n",
    "&=\\gamma y_{2 i}+\\beta_1 x_{1 i}+\\beta_2 x_{2 i}+\\lambda v_i + \\eta_i \\\\\n",
    "&=\\gamma y_{2 i}+\\beta_1 x_{1 i}+\\beta_2 x_{2 i}+\\sigma{v u}\\left(y_{2 i} - \\pi_1 x_{1 i}-\\pi_2 x_{2 i}-\\pi_3 x_{3 i}\\right) + \\eta_i \\\\\n",
    "&=(\\gamma+\\sigma_{v u}) y_{2 i}+(\\beta_1-\\sigma_{v u}\\pi_1) x_{1 i}+(\\beta_2-\\sigma_{v u}\\pi_2) x_{2 i}-\\sigma_{v u}\\pi_3 x_{3 i} + \\eta_i \\\\\n",
    "\\end{aligned}\n",
    "$$"
   ]
  },
  {
   "cell_type": "markdown",
   "metadata": {},
   "source": [
    "Como $y_{1 i} \\in \\{0, 1\\}$, então\n",
    "\n",
    "$$\n",
    "f(y_{1 i}|y_{2 i}, x_i) = \\mathbb{P}(y_{1 i} = 1| y_{2 i}, x_i)^{y_{1 i}}\\left[1 - \\mathbb{P}(y_{1 i} = 1| y_{2 i}, x_i)\\right]^{(1-y_{1 i})}\n",
    "$$"
   ]
  },
  {
   "cell_type": "markdown",
   "metadata": {},
   "source": [
    "$$\n",
    "\\begin{aligned}\n",
    "\\mathbb{P}(y_{1 i} = 1| y_{2 i}, x_i) &= \\mathbb{P}(y_{1 i}^* > 0| y_{2 i}, x_i)\\\\\n",
    "&= \\mathbb{P}((\\gamma+\\sigma_{v u}) y_{2 i}+(\\beta_1-\\sigma_{v u}\\pi_1) x_{1 i}+(\\beta_2-\\sigma_{v u}\\pi_2) x_{2 i}-\\sigma_{v u}\\pi_3 x_{3 i} + \\eta_i > 0 |y_{2 i}, x_i) \\\\\n",
    "&= \\mathbb{P}(\\eta_i > - (\\gamma+\\sigma_{v u}) y_{2 i}-(\\beta_1-\\sigma_{v u}\\pi_1) x_{1 i}-(\\beta_2-\\sigma_{v u}\\pi_2) x_{2 i}+\\sigma_{v u}\\pi_3 x_{3 i} |y_{2 i}, x_i) \\\\\n",
    "&=1 - \\mathbb{P}(\\eta_i < (\\gamma+\\sigma_{v u}) y_{2 i}+(\\beta_1-\\sigma_{v u}\\pi_1) x_{1 i}+(\\beta_2-\\sigma_{v u}\\pi_2) x_{2 i}-\\sigma_{v u}\\pi_3 x_{3 i} |y_{2 i}, x_i) \\\\\n",
    "&=1 - \\Phi((\\gamma+\\sigma_{v u}) y_{2 i}+(\\beta_1-\\sigma_{v u}\\pi_1) x_{1 i}+(\\beta_2-\\sigma_{v u}\\pi_2) x_{2 i}-\\sigma_{v u}\\pi_3 x_{3 i}) \\\\\n",
    "&=\\Phi(-(\\gamma+\\sigma_{v u}) y_{2 i}-(\\beta_1-\\sigma_{v u}\\pi_1) x_{1 i}-(\\beta_2-\\sigma_{v u}\\pi_2) x_{2 i}+\\sigma_{v u}\\pi_3 x_{3 i}) \\\\\n",
    "&\\equiv \\Phi(w)\n",
    "\\end{aligned}\n",
    "$$"
   ]
  },
  {
   "cell_type": "markdown",
   "metadata": {},
   "source": [
    "Portanto\n",
    "\n",
    "$$\n",
    "\\begin{aligned}\n",
    "f(y_{1i}, y_{2i}|x_i) &= f(y_{1i}|y_{2i}, x_i)\\cdot f(y_{2i}|x_i)\\\\\n",
    "&=\\Phi(w)^{y_{1 i}}\\left[1-\\Phi(w)\\right]^{(1-y_{1 i})}\\cdot \\phi(y_{2 i} - \\pi_1 x_{1 i} - \\pi_2 x_{2 i} - \\pi_3 x_{3 i})\n",
    "\\end{aligned}\n",
    "$$\n"
   ]
  },
  {
   "cell_type": "markdown",
   "metadata": {},
   "source": [
    "Aplicando $\\ln(\\cdot)$\n",
    "\n",
    "$$\n",
    "\\begin{aligned}\n",
    "\\ln(f(y_{1i}, y_{2i}|x_i)) &= y_{1 i}\\ln\\left[\\Phi(w)\\right] + (1-y_{1 i})\\ln\\left[1-\\Phi(w)\\right] + \\ln\\left[\\frac{1}{\\sqrt{2 \\pi}}\\exp{\\left(-\\frac{1}{2}\\left(y_{2 i} - \\left(\\pi_1 x_{1 i}+\\pi_2 x_{2 i}+\\pi_3 x_{3 i}\\right)\\right)\\right)}\\right]\\\\\n",
    "&= y_{1 i}\\ln\\left[\\Phi(w)\\right] + (1-y_{1 i})\\ln\\left[1-\\Phi(w)\\right] + \\underbrace{\\ln\\left[\\frac{1}{\\sqrt{2 \\pi}}\\right]}_{\\operatorname{\\text{podemos desconsiderar}}} -\\frac{1}{2}\\left(y_{2 i} - \\left(\\pi_1 x_{1 i}+\\pi_2 x_{2 i}+\\pi_3 x_{3 i}\\right)\\right)\\\\\n",
    "&= y_{1 i}\\ln\\left[\\Phi(w)\\right] + (1-y_{1 i})\\ln\\left[1-\\Phi(w)\\right] -\\frac{1}{2}\\left(y_{2 i} - \\left(\\pi_1 x_{1 i}+\\pi_2 x_{2 i}+\\pi_3 x_{3 i}\\right)\\right)\\\\\n",
    "\\end{aligned}\n",
    "$$"
   ]
  },
  {
   "cell_type": "markdown",
   "metadata": {},
   "source": [
    "Finalmente temos que a Likelihood é \n",
    "\n",
    "$$\n",
    "\\mathcal{L} = \\prod_{i=1}^n f(y_{1 i}, y_{2 i}| x_i)\n",
    "$$\n",
    "\n",
    "e a Log-Likelihood é\n",
    "\n",
    "$$\n",
    "\\ln(\\mathcal{L}) = \\sum_{i=1}^n \\ln\\left[f(y_{1 i}, y_{2 i}| x_i)\\right]\n",
    "$$"
   ]
  },
  {
   "cell_type": "code",
   "execution_count": 2,
   "metadata": {},
   "outputs": [],
   "source": [
    "# garante a replicabilidade dos valores aleatórios\n",
    "random.seed(10)\n",
    "warnings.filterwarnings('ignore')"
   ]
  },
  {
   "cell_type": "code",
   "execution_count": 3,
   "metadata": {},
   "outputs": [],
   "source": [
    "# valores dos parâmetros verdadeiros\n",
    "\n",
    "gamma = 1\n",
    "beta_1 = 0\n",
    "beta_2 = -1\n",
    "pi_1 = 0\n",
    "pi_2 = 1\n",
    "pi_3 = 1\n",
    "lambdaa = 0.5\n",
    "\n",
    "n = 100"
   ]
  },
  {
   "cell_type": "code",
   "execution_count": 4,
   "metadata": {},
   "outputs": [],
   "source": [
    "# gerando normais padronizadas independentes\n",
    "v = np.random.normal(0, 1, n)\n",
    "eta = np.random.normal(0, 1, n)"
   ]
  },
  {
   "cell_type": "code",
   "execution_count": 5,
   "metadata": {},
   "outputs": [
    {
     "data": {
      "image/png": "[encoded data removed]",
      "text/plain": [
       "<Figure size 864x576 with 1 Axes>"
      ]
     },
     "metadata": {},
     "output_type": "display_data"
    }
   ],
   "source": [
    "# plot da distribuição de v\n",
    "sns.set(rc={'figure.figsize':(12,8)});\n",
    "ax = sns.histplot(v,\n",
    "                  bins=30,\n",
    "                  kde=True,\n",
    "                  color='blue',\n",
    "                  stat = \"density\");\n",
    "ax.set(xlabel='v', ylabel='Frequência');"
   ]
  },
  {
   "cell_type": "code",
   "execution_count": 6,
   "metadata": {},
   "outputs": [
    {
     "data": {
      "image/png": "[encoded data removed]",
      "text/plain": [
       "<Figure size 864x576 with 1 Axes>"
      ]
     },
     "metadata": {},
     "output_type": "display_data"
    }
   ],
   "source": [
    "# plot da distribuição de eta\n",
    "sns.set(rc={'figure.figsize':(12,8)});\n",
    "ax = sns.histplot(eta,\n",
    "                  bins=30,\n",
    "                  kde=True,\n",
    "                  color='blue',\n",
    "                  stat = \"density\");\n",
    "ax.set(xlabel='eta', ylabel='Frequência');"
   ]
  },
  {
   "cell_type": "code",
   "execution_count": 7,
   "metadata": {},
   "outputs": [
    {
     "data": {
      "text/plain": [
       "array([[1.01523993, 0.12215974],\n",
       "       [0.12215974, 1.01371283]])"
      ]
     },
     "execution_count": 7,
     "metadata": {},
     "output_type": "execute_result"
    }
   ],
   "source": [
    "# matriz de covariância entre v e eta\n",
    "np.cov(v, eta)"
   ]
  },
  {
   "cell_type": "markdown",
   "metadata": {},
   "source": [
    "onde os valores assintóticos devem ser\n",
    "\n",
    "$$\n",
    "\\mathbb{V}[v] = 1 \\\\\n",
    "\\mathbb{V}[\\eta] = 1 \\\\\n",
    "\\mathbb{C}[v, \\eta] = \\mathbb{C}[\\eta, v] = 0 \\\\\n",
    "$$"
   ]
  },
  {
   "cell_type": "code",
   "execution_count": 8,
   "metadata": {},
   "outputs": [],
   "source": [
    "# criando u genérico\n",
    "u = np.zeros(100)"
   ]
  },
  {
   "cell_type": "markdown",
   "metadata": {},
   "source": [
    "$$\n",
    "u_i = \\lambda v_i + \\eta_i\n",
    "$$"
   ]
  },
  {
   "cell_type": "code",
   "execution_count": 9,
   "metadata": {},
   "outputs": [],
   "source": [
    "# definindo u\n",
    "for i in range(n):\n",
    "    u[i] = lambdaa*v[i] + eta[i]"
   ]
  },
  {
   "cell_type": "code",
   "execution_count": 10,
   "metadata": {},
   "outputs": [
    {
     "data": {
      "text/plain": [
       "array([[1.38968256, 0.62977971],\n",
       "       [0.62977971, 1.01523993]])"
      ]
     },
     "execution_count": 10,
     "metadata": {},
     "output_type": "execute_result"
    }
   ],
   "source": [
    "# matriz de covariância entre u e v\n",
    "np.cov(u, v)"
   ]
  },
  {
   "cell_type": "markdown",
   "metadata": {},
   "source": [
    "onde a teoria nos diz que \n",
    "\n",
    "$$\n",
    "\\begin{aligned}\n",
    "\\mathbb{C}[u, v] &= \\mathbb{C}[\\lambda v + \\eta, v]  \\\\\n",
    "&= \\lambda\\mathbb{C}[v, v] + \\mathbb{C}[\\eta, v] \\\\\n",
    "&= \\lambda \\mathbb{V}[v] + \\mathbb{C}[\\eta, v] \\\\\n",
    "&= 0.5\\cdot 1 + 0 = 0.5\n",
    "\\end{aligned}\n",
    "$$"
   ]
  },
  {
   "cell_type": "code",
   "execution_count": 11,
   "metadata": {},
   "outputs": [],
   "source": [
    "# gerandos x1\n",
    "x1 = np.ones(100)"
   ]
  },
  {
   "cell_type": "code",
   "execution_count": 12,
   "metadata": {},
   "outputs": [],
   "source": [
    "# gerando x2, x3\n",
    "mean = [0, 0]\n",
    "cov = [[1, 0.5], [0.5, 1]]\n",
    "\n",
    "x2, x3 = np.random.multivariate_normal(mean, cov, 100).T"
   ]
  },
  {
   "cell_type": "code",
   "execution_count": 17,
   "metadata": {},
   "outputs": [
    {
     "data": {
      "image/png": "[encoded data removed]",
      "text/plain": [
       "<Figure size 864x576 with 1 Axes>"
      ]
     },
     "metadata": {},
     "output_type": "display_data"
    }
   ],
   "source": [
    "# densidade conjunta de x2 e x3\n",
    "plt.plot(x2, x3, 'o')\n",
    "plt.axis('equal')\n",
    "plt.show()"
   ]
  },
  {
   "cell_type": "code",
   "execution_count": 14,
   "metadata": {},
   "outputs": [
    {
     "data": {
      "text/plain": [
       "array([[0.94034369, 0.52711316],\n",
       "       [0.52711316, 0.89798894]])"
      ]
     },
     "execution_count": 14,
     "metadata": {},
     "output_type": "execute_result"
    }
   ],
   "source": [
    "np.cov(x2,x3)"
   ]
  },
  {
   "cell_type": "markdown",
   "metadata": {},
   "source": [
    "$$\n",
    "y_{2 i}=\\pi_1 x_{1 i}+\\pi_2 x_{2 i}+\\pi_3 x_{3 i}+v_i\n",
    "$$"
   ]
  },
  {
   "cell_type": "code",
   "execution_count": 15,
   "metadata": {},
   "outputs": [],
   "source": [
    "# definindo y2\n",
    "y2 = np.zeros(100)\n",
    "\n",
    "for i in range(n):\n",
    "    y2[i] = pi_1*x1[i] + pi_2*x2[i] + pi_3*x3[i] + v[i]"
   ]
  },
  {
   "cell_type": "markdown",
   "metadata": {},
   "source": [
    "$$\n",
    "y_{1 i}^*=\\gamma y_{2 i}+\\beta_1 x_{1 i}+\\beta_2 x_{2 i}+u_i\n",
    "$$"
   ]
  },
  {
   "cell_type": "code",
   "execution_count": 16,
   "metadata": {},
   "outputs": [],
   "source": [
    "# definindo y1*\n",
    "y1_star = np.zeros(100)\n",
    "\n",
    "for i in range(n):\n",
    "    y1_star[i] = gamma*y2[i] + beta_1*x1[i] + beta_2*x2[i] + u[i]"
   ]
  },
  {
   "cell_type": "markdown",
   "metadata": {},
   "source": [
    "$$\n",
    "y_{1 i}=\\mathbb{I}\\left(y_{1 i}^*>0\\right)\n",
    "$$"
   ]
  },
  {
   "cell_type": "code",
   "execution_count": 18,
   "metadata": {},
   "outputs": [],
   "source": [
    "# definindo y1\n",
    "y1 = np.zeros(100)\n",
    "\n",
    "for i in range(n):\n",
    "    if y1_star[i] > 0:\n",
    "        y1[i] = 1\n",
    "    else:\n",
    "        y1[i] = 0"
   ]
  }
 ],
 "metadata": {
  "kernelspec": {
   "display_name": "Python 3.10.2 64-bit",
   "language": "python",
   "name": "python3"
  },
  "language_info": {
   "codemirror_mode": {
    "name": "ipython",
    "version": 3
   },
   "file_extension": ".py",
   "mimetype": "text/x-python",
   "name": "python",
   "nbconvert_exporter": "python",
   "pygments_lexer": "ipython3",
   "version": "3.10.2"
  },
  "orig_nbformat": 4,
  "vscode": {
   "interpreter": {
    "hash": "c63d8c7d738c2960218a10995aedf0a7f67a49a231e71037adf0440953cdb45b"
   }
  }
 },
 "nbformat": 4,
 "nbformat_minor": 2
}
