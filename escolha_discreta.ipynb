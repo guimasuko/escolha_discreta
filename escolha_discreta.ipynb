{
 "cells": [
  {
   "cell_type": "code",
   "execution_count": 27,
   "metadata": {},
   "outputs": [],
   "source": [
    "import numpy as np\n",
    "import matplotlib.pyplot as plt\n",
    "import pandas as pd\n",
    "import seaborn as sns\n",
    "import statistics\n",
    "import random\n",
    "import math\n",
    "import warnings\n",
    "import statsmodels.formula.api as sm\n",
    "from scipy import stats\n",
    "from scipy.stats import norm\n",
    "from scipy.optimize import minimize"
   ]
  },
  {
   "attachments": {},
   "cell_type": "markdown",
   "metadata": {},
   "source": [
    "## Questão 1. ( $5.0$ pontos)\n",
    "Considere o modelo latente a seguir:\n",
    "$$\n",
    "\\begin{aligned}\n",
    "&y_{1 i}^*=\\gamma y_{2 i}+\\beta_1 x_{1 i}+\\beta_2 x_{2 i}+u_i \\\\\n",
    "&y_{2 i}=\\pi_1 x_{1 i}+\\pi_2 x_{2 i}+\\pi_3 x_{3 i}+v_i\n",
    "\\end{aligned}\n",
    "$$\n",
    "onde o econometrista observa\n",
    "$$\n",
    "y_{1 i}=\\mathbb{I}\\left(y_{1 i}^*>0\\right),\n",
    "$$\n",
    "sendo $\\mathbb{I}\\left(y_{1 i}^*>0\\right)$ uma função indicadora com valor igual a 1 caso $y_{1 i}^*>0$ e 0 caso contrário. As seguintes propriedades são válidas:"
   ]
  },
  {
   "cell_type": "markdown",
   "metadata": {},
   "source": [
    "\n",
    "* $\\left(u_i, v_i\\right)$ tem média zero, distribuição normal, independente de $x_i=\\left(x_{1 i}, x_{2 i}, x_{3 i}\\right)$;\n",
    "\n",
    "* $u_i=\\lambda v_i+\\eta_i$, onde $\\left(v_i, \\eta_i\\right)$ são independentes com distribuição normal padrão.\n",
    "\n",
    "Para o exercício de simulação abaixo, considere o seguinte processo de geração de dados: $x_{1 i}$ é um termo constante, $(x_{2 i}, x_{3 i})$ vem de distribuições normais multivariada equicorrelacionadas, com médias zeros, variancias unitárias e covariância de 0.5. Os parâmetros são definidos como:\n",
    "\n",
    "\n",
    "* $\\gamma=1$ \n",
    "* $\\beta_1=0$\n",
    "* $\\beta_2=-1$\n",
    "* $\\pi_1=0$\n",
    "* $\\pi_2=1$\n",
    "* $\\pi_3=1$\n",
    "* $\\lambda = 0.5$\n",
    "* $n=100$ \n",
    "\n",
    "onde $n$ é o tamanho da amostra. Construa o se próprio código para as stimações abaixo, não use os comandos do software."
   ]
  },
  {
   "attachments": {},
   "cell_type": "markdown",
   "metadata": {},
   "source": [
    "### (a) (1.0) Proponha um método de estimação para o problema acima baseado na densidade conjunta de $f\\left(y_{1 i}, y_{2 i} \\mid x_i\\right)$. Obtenha a função de verossimilhança para a estimação."
   ]
  },
  {
   "cell_type": "markdown",
   "metadata": {},
   "source": [
    "Sabemos que\n",
    "\n",
    "$$\n",
    "f(y_{1i}, y_{2i}|x_i) = f(y_{1i}|y_{2i}, x_i)\\cdot f(y_{2i}|x_i)\n",
    "$$\n",
    "\n",
    "Então precisamos encontrar $f(y_{1i}|y_{2i}, x_i)$ e $f(y_{2i}|x_i)$. Primeiro encontraremos $f(y_{2i}|x_i)$."
   ]
  },
  {
   "cell_type": "markdown",
   "metadata": {},
   "source": [
    "Pelo enunciado, temos a seguinte estrutura entre os erros\n",
    "\n",
    "$$\n",
    "\\left(\\begin{array}{l}\n",
    "u_i \\\\\n",
    "v_i\n",
    "\\end{array}\\right) \\sim \\operatorname{NID}\\left[\\left(\\begin{array}{l}\n",
    "0 \\\\\n",
    "0\n",
    "\\end{array}\\right),\\left(\\begin{array}{ll}\n",
    "\\sigma_{u}^2 & \\sigma_{u v} \\\\\n",
    "\\sigma_{v u} & \\sigma_{v}^2\n",
    "\\end{array}\\right)\\right]\n",
    "$$"
   ]
  },
  {
   "cell_type": "markdown",
   "metadata": {},
   "source": [
    "Utilizando as propriedades da normal multivariada, temos os seguintes resultados\n",
    "\n",
    "* Distribuição marginal\n",
    "\n",
    "$$\n",
    "\\mathbb{D}(u_i) = \\mathcal{N}(0, \\sigma_u^2)\\\\\n",
    "\\mathbb{D}(v_i) = \\mathcal{N}(0, \\sigma_v^2)\n",
    "$$\n",
    "\n",
    "* Distribuição Condicional\n",
    "$$\n",
    "\\mathbb{D}(u_i | v_i) = \\mathcal{N}\\left(\\frac{\\sigma{u v}}{\\sigma_v^2}v_i, \\sigma_u^2 - \\frac{\\sigma{u v}^2}{\\sigma_v^2}\\right)\\\\\n",
    "\\mathbb{D}(v_i | u_i) = \\mathcal{N}\\left(\\frac{\\sigma{v u}}{\\sigma_u^2}u_i, \\sigma_v^2 - \\frac{\\sigma{v u}^2}{\\sigma_u^2}\\right)\\\\\n",
    "$$\n"
   ]
  },
  {
   "attachments": {},
   "cell_type": "markdown",
   "metadata": {},
   "source": [
    "Partindo então de $y_{2 i}=\\pi_1 x_{1 i}+\\pi_2 x_{2 i}+\\pi_3 x_{3 i}+v_i$, temos\n",
    "\n",
    "$$\n",
    "\\mathbb{E}[y_{2 i}| x_i] = \\pi_1 x_{1 i}+\\pi_2 x_{2 i}+\\pi_3 x_{3 i} \\\\\n",
    "\\mathbb{V}[y_{2 i}| x_i] = \\mathbb{V}[v_i | x_i] = \\mathbb{V}[v_i] =\\sigma_v^2 = 1\n",
    "$$\n",
    "\n",
    "Portanto\n",
    "\n",
    "$$\n",
    "\\mathbb{D}(y_{2 i}|x_i) = \\mathcal{N}\\left(\\pi_1 x_{1 i}+\\pi_2 x_{2 i}+\\pi_3 x_{3 i}, \\sigma_v^2\\right)\n",
    "$$"
   ]
  },
  {
   "attachments": {},
   "cell_type": "markdown",
   "metadata": {},
   "source": [
    "Isso significa que\n",
    "\n",
    "$$\n",
    "\\begin{aligned}\n",
    "f(y_{2 i}| x_i) &= \\frac{1}{\\sqrt{2 \\pi \\sigma_v^2}}\\exp{\\left(-\\frac{\\left(y_{2 i} - \\left(\\pi_1 x_{1 i}+\\pi_2 x_{2 i}+\\pi_3 x_{3 i}\\right)\\right)^2}{2\\sigma_v^2}\\right)} \\\\\n",
    "\\end{aligned}\n",
    "$$\n",
    "\n",
    "onde $\\phi(\\cdot)$ é a pdf de uma distribuição normal padronizada"
   ]
  },
  {
   "attachments": {},
   "cell_type": "markdown",
   "metadata": {},
   "source": [
    "Agora precisamos definir $f(y_{1i}|y_{2i}, x_i)$\n",
    "\n",
    "Primeiro, sabemos que $u_i = \\lambda v_i + \\eta_i$ onde \n",
    "* $v_i \\sim \\mathcal{N}(0,1)$\n",
    "* $\\eta_i \\sim \\mathcal{N}(0,1)$ \n",
    "* $v_i \\perp \\!\\!\\! \\perp \\eta_i$\n",
    "\n",
    "e\n",
    "\n",
    "$$\n",
    "\\lambda = \\frac{\\mathbb{C}[v_i, u_i]}{\\mathbb{V}[v_i]} = \\frac{\\sigma_{v u}}{\\sigma_{v}^2} = \\frac{1}{2}\n",
    "$$"
   ]
  },
  {
   "attachments": {},
   "cell_type": "markdown",
   "metadata": {},
   "source": [
    "Como $u_i = \\lambda v_i + \\eta_i$, então temos que \n",
    "\n",
    "$$\n",
    "\\begin{aligned}\n",
    "\\mathbb{V}[u_i] &= \\mathbb{V}[\\lambda v_i + \\eta_i]\\\\\n",
    "&=\\lambda^2\\mathbb{V}[v_i] + \\mathbb{V}[\\eta_i]\\\\\n",
    "\\sigma_u^2&=\\lambda^2\\sigma_v^2 + \\mathbb{V}[\\eta_i] = \\left(\\frac{1}{2}\\right)^2 1 + 1 = \\frac{5}{4}\\\\\n",
    "\n",
    "\\Leftrightarrow \\\\ \\mathbb{V}[\\eta_i] &= \\sigma_u^2 - \\lambda^2\\sigma_v^2\n",
    "\\end{aligned}\n",
    "$$"
   ]
  },
  {
   "attachments": {},
   "cell_type": "markdown",
   "metadata": {},
   "source": [
    "Reescrevendo \n",
    "\n",
    "$$\n",
    "\\begin{aligned}\n",
    "y_{1 i}^* &=\\gamma y_{2 i}+\\beta_1 x_{1 i}+\\beta_2 x_{2 i}+u_i \\\\\n",
    "&=\\gamma y_{2 i}+\\beta_1 x_{1 i}+\\beta_2 x_{2 i}+\\lambda v_i + \\eta_i \\\\\n",
    "&=\\gamma y_{2 i}+\\beta_1 x_{1 i}+\\beta_2 x_{2 i}+\\lambda\\left(y_{2 i} - \\pi_1 x_{1 i}-\\pi_2 x_{2 i}-\\pi_3 x_{3 i}\\right) + \\eta_i \\\\\n",
    "&=(\\gamma+\\lambda) y_{2 i}+(\\beta_1-\\lambda\\pi_1) x_{1 i}+(\\beta_2-\\lambda\\pi_2) x_{2 i}-\\lambda\\pi_3 x_{3 i} + \\eta_i \\\\\n",
    "\\end{aligned}\n",
    "$$"
   ]
  },
  {
   "cell_type": "markdown",
   "metadata": {},
   "source": [
    "Como $y_{1 i} \\in \\{0, 1\\}$, então\n",
    "\n",
    "$$\n",
    "f(y_{1 i}|y_{2 i}, x_i) = \\mathbb{P}(y_{1 i} = 1| y_{2 i}, x_i)^{y_{1 i}}\\left[1 - \\mathbb{P}(y_{1 i} = 1| y_{2 i}, x_i)\\right]^{(1-y_{1 i})}\n",
    "$$"
   ]
  },
  {
   "attachments": {},
   "cell_type": "markdown",
   "metadata": {},
   "source": [
    "$$\n",
    "\\begin{aligned}\n",
    "\\mathbb{P}(y_{1 i} = 1| y_{2 i}, x_i) &= \\mathbb{P}(y_{1 i}^* > 0| y_{2 i}, x_i)\\\\\n",
    "\n",
    "&= \\mathbb{P}((\\gamma+\\lambda) y_{2 i}+(\\beta_1-\\lambda\\pi_1) x_{1 i}+(\\beta_2-\\lambda\\pi_2) x_{2 i}-\\lambda\\pi_3 x_{3 i} + \\eta_i > 0 |y_{2 i}, x_i) \\\\\n",
    "\n",
    "&= \\mathbb{P}(\\eta_i > - (\\gamma+\\lambda) y_{2 i}-(\\beta_1-\\lambda\\pi_1) x_{1 i}-(\\beta_2-\\lambda\\pi_2) x_{2 i}+\\lambda\\pi_3 x_{3 i} |y_{2 i}, x_i) \\\\\n",
    "\n",
    "&=1 - \\mathbb{P}\\left(\\frac{\\eta_i}{\\sigma_u^2 - \\lambda^2\\sigma_v^2} <- \\frac{(\\gamma+\\lambda) y_{2 i}+(\\beta_1-\\lambda\\pi_1) x_{1 i}+(\\beta_2-\\lambda\\pi_2) x_{2 i}-\\lambda\\pi_3 x_{3 i}}{\\sigma_u^2 - \\lambda^2\\sigma_v^2} |y_{2 i}, x_i\\right) \\\\\n",
    "\n",
    "&=1 - \\Phi\\left(- \\frac{(\\gamma+\\lambda) y_{2 i}+(\\beta_1-\\lambda\\pi_1) x_{1 i}+(\\beta_2-\\lambda\\pi_2) x_{2 i}-\\lambda\\pi_3 x_{3 i}}{\\sigma_u^2 - \\lambda^2\\sigma_v^2}\\right) \\\\\n",
    "\n",
    "&=\\Phi\\left(\\frac{(\\gamma+\\lambda) y_{2 i}+(\\beta_1-\\lambda\\pi_1) x_{1 i}+(\\beta_2-\\lambda\\pi_2) x_{2 i}-\\lambda\\pi_3 x_{3 i}}{\\sigma_u^2 - \\lambda^2\\sigma_v^2}\\right) \\\\\n",
    "\\end{aligned}\n",
    "$$"
   ]
  },
  {
   "attachments": {},
   "cell_type": "markdown",
   "metadata": {},
   "source": [
    "Defina \n",
    "\n",
    "$$\n",
    "\\Phi(w) \\equiv \\Phi\\left(\\frac{(\\gamma+\\lambda) y_{2 i}+(\\beta_1-\\lambda\\pi_1) x_{1 i}+(\\beta_2-\\lambda\\pi_2) x_{2 i}-\\lambda\\pi_3 x_{3 i}}{\\sigma_u^2 - \\lambda^2\\sigma_v^2}\\right) \\\\\n",
    "$$"
   ]
  },
  {
   "attachments": {},
   "cell_type": "markdown",
   "metadata": {},
   "source": [
    "Portanto\n",
    "\n",
    "$$\n",
    "\\begin{aligned}\n",
    "f(y_{1i}, y_{2i}|x_i) &= f(y_{1i}|y_{2i}, x_i)\\cdot f(y_{2i}|x_i)\\\\\n",
    "&=\\Phi(w)^{y_{1 i}}\\left[1-\\Phi(w)\\right]^{(1-y_{1 i})}\\cdot \\frac{1}{\\sqrt{2 \\pi \\sigma_v^2}}\\exp{\\left(-\\frac{\\left(y_{2 i} - \\left(\\pi_1 x_{1 i}+\\pi_2 x_{2 i}+\\pi_3 x_{3 i}\\right)\\right)^2}{2\\sigma_v^2}\\right)}\n",
    "\\end{aligned}\n",
    "$$\n"
   ]
  },
  {
   "attachments": {},
   "cell_type": "markdown",
   "metadata": {},
   "source": [
    "Aplicando $\\ln(\\cdot)$\n",
    "\n",
    "$$\n",
    "\\begin{aligned}\n",
    "\\ln(f(y_{1i}, y_{2i}|x_i)) &= y_{1 i}\\ln\\left[\\Phi(w)\\right] + (1-y_{1 i})\\ln\\left[1-\\Phi(w)\\right] + \\ln\\left[\\frac{1}{\\sqrt{2 \\pi \\sigma_v^2}}\\exp{\\left(-\\frac{\\left(y_{2 i} - \\left(\\pi_1 x_{1 i}+\\pi_2 x_{2 i}+\\pi_3 x_{3 i}\\right)\\right)^2}{2\\sigma_v^2}\\right)}\\right]\\\\\n",
    "&= y_{1 i}\\ln\\left[\\Phi(w)\\right] + (1-y_{1 i})\\ln\\left[1-\\Phi(w)\\right] + \\underbrace{\\ln\\left[\\frac{1}{\\sqrt{2 \\pi}}\\right]}_{\\operatorname{\\text{podemos desconsiderar}}} + \\ln\\left[\\frac{1}{\\sqrt{\\sigma_v^2}}\\right] -\\left(\\frac{\\left(y_{2 i} - \\left(\\pi_1 x_{1 i}+\\pi_2 x_{2 i}+\\pi_3 x_{3 i}\\right)\\right)^2}{2\\sigma_v^2}\\right)\\\\\n",
    "&= y_{1 i}\\ln\\left[\\Phi(w)\\right] + (1-y_{1 i})\\ln\\left[1-\\Phi(w)\\right] - \\frac{1}{2}\\ln\\left[\\sigma_v^2\\right] -\\left(\\frac{\\left(y_{2 i} - \\left(\\pi_1 x_{1 i}+\\pi_2 x_{2 i}+\\pi_3 x_{3 i}\\right)\\right)^2}{2\\sigma_v^2}\\right)\\\\\n",
    "\\end{aligned}\n",
    "$$"
   ]
  },
  {
   "cell_type": "markdown",
   "metadata": {},
   "source": [
    "Finalmente temos que a Likelihood é \n",
    "\n",
    "$$\n",
    "\\mathcal{L} = \\prod_{i=1}^n f(y_{1 i}, y_{2 i}| x_i)\n",
    "$$\n",
    "\n",
    "e a Log-Likelihood é\n",
    "\n",
    "$$\n",
    "\\ln(\\mathcal{L}) = \\sum_{i=1}^n \\ln\\left[f(y_{1 i}, y_{2 i}| x_i)\\right]\n",
    "$$"
   ]
  },
  {
   "cell_type": "code",
   "execution_count": 28,
   "metadata": {},
   "outputs": [],
   "source": [
    "# garante a replicabilidade dos valores aleatórios\n",
    "random.seed(123)\n",
    "warnings.filterwarnings('ignore')"
   ]
  },
  {
   "cell_type": "code",
   "execution_count": 29,
   "metadata": {},
   "outputs": [],
   "source": [
    "# valores dos parâmetros verdadeiros\n",
    "\n",
    "gamma = 1\n",
    "beta_1 = 0\n",
    "beta_2 = -1\n",
    "pi_1 = 0\n",
    "pi_2 = 1\n",
    "pi_3 = 1\n",
    "lambdaa = 0.5\n",
    "\n",
    "n = 100"
   ]
  },
  {
   "cell_type": "code",
   "execution_count": 30,
   "metadata": {},
   "outputs": [],
   "source": [
    "# gerando normais padronizadas independentes\n",
    "v = np.random.normal(0, 1, n)\n",
    "eta = np.random.normal(0, 1, n)"
   ]
  },
  {
   "cell_type": "code",
   "execution_count": 31,
   "metadata": {},
   "outputs": [
    {
     "data": {
      "image/png": "[encoded data removed]",
      "text/plain": [
       "<Figure size 864x576 with 1 Axes>"
      ]
     },
     "metadata": {},
     "output_type": "display_data"
    }
   ],
   "source": [
    "# plot da distribuição de v\n",
    "sns.set(rc={'figure.figsize':(12,8)});\n",
    "ax = sns.histplot(v,\n",
    "                  bins=30,\n",
    "                  kde=True,\n",
    "                  color='blue',\n",
    "                  stat = \"density\");\n",
    "ax.set(xlabel='v', ylabel='Frequência');"
   ]
  },
  {
   "cell_type": "code",
   "execution_count": 32,
   "metadata": {},
   "outputs": [
    {
     "data": {
      "image/png": "[encoded data removed]",
      "text/plain": [
       "<Figure size 864x576 with 1 Axes>"
      ]
     },
     "metadata": {},
     "output_type": "display_data"
    }
   ],
   "source": [
    "# plot da distribuição de eta\n",
    "sns.set(rc={'figure.figsize':(12,8)});\n",
    "ax = sns.histplot(eta,\n",
    "                  bins=30,\n",
    "                  kde=True,\n",
    "                  color='blue',\n",
    "                  stat = \"density\");\n",
    "ax.set(xlabel='eta', ylabel='Frequência');"
   ]
  },
  {
   "cell_type": "code",
   "execution_count": 33,
   "metadata": {},
   "outputs": [
    {
     "data": {
      "text/plain": [
       "array([[ 0.82915091, -0.00836727],\n",
       "       [-0.00836727,  1.14491894]])"
      ]
     },
     "execution_count": 33,
     "metadata": {},
     "output_type": "execute_result"
    }
   ],
   "source": [
    "# matriz de covariância entre v e eta\n",
    "np.cov(v, eta)"
   ]
  },
  {
   "cell_type": "markdown",
   "metadata": {},
   "source": [
    "onde os valores assintóticos devem ser\n",
    "\n",
    "$$\n",
    "\\mathbb{V}[v] = 1 \\\\\n",
    "\\mathbb{V}[\\eta] = 1 \\\\\n",
    "\\mathbb{C}[v, \\eta] = \\mathbb{C}[\\eta, v] = 0 \\\\\n",
    "$$"
   ]
  },
  {
   "cell_type": "code",
   "execution_count": 34,
   "metadata": {},
   "outputs": [],
   "source": [
    "# criando u genérico\n",
    "u = np.zeros(100)"
   ]
  },
  {
   "cell_type": "markdown",
   "metadata": {},
   "source": [
    "$$\n",
    "u_i = \\lambda v_i + \\eta_i\n",
    "$$"
   ]
  },
  {
   "cell_type": "code",
   "execution_count": 35,
   "metadata": {},
   "outputs": [],
   "source": [
    "# definindo u\n",
    "for i in range(n):\n",
    "    u[i] = lambdaa*v[i] + eta[i]"
   ]
  },
  {
   "cell_type": "code",
   "execution_count": 36,
   "metadata": {},
   "outputs": [
    {
     "data": {
      "text/plain": [
       "array([[1.3438394 , 0.40620819],\n",
       "       [0.40620819, 0.82915091]])"
      ]
     },
     "execution_count": 36,
     "metadata": {},
     "output_type": "execute_result"
    }
   ],
   "source": [
    "# matriz de covariância entre u e v\n",
    "np.cov(u, v)"
   ]
  },
  {
   "cell_type": "markdown",
   "metadata": {},
   "source": [
    "onde a teoria nos diz que \n",
    "\n",
    "$$\n",
    "\\begin{aligned}\n",
    "\\mathbb{C}[u, v] &= \\mathbb{C}[\\lambda v + \\eta, v]  \\\\\n",
    "&= \\lambda\\mathbb{C}[v, v] + \\mathbb{C}[\\eta, v] \\\\\n",
    "&= \\lambda \\mathbb{V}[v] + \\mathbb{C}[\\eta, v] \\\\\n",
    "&= 0.5\\cdot 1 + 0 = 0.5\n",
    "\\end{aligned}\n",
    "$$"
   ]
  },
  {
   "cell_type": "code",
   "execution_count": 37,
   "metadata": {},
   "outputs": [],
   "source": [
    "# gerandos x1\n",
    "x1 = np.ones(100)"
   ]
  },
  {
   "cell_type": "code",
   "execution_count": 38,
   "metadata": {},
   "outputs": [],
   "source": [
    "# gerando x2, x3\n",
    "mean = [0, 0]\n",
    "cov = [[1, 0.5], [0.5, 1]]\n",
    "\n",
    "x2, x3 = np.random.multivariate_normal(mean, cov, 100).T"
   ]
  },
  {
   "cell_type": "code",
   "execution_count": 39,
   "metadata": {},
   "outputs": [
    {
     "data": {
      "image/png": "[encoded data removed]",
      "text/plain": [
       "<Figure size 864x576 with 1 Axes>"
      ]
     },
     "metadata": {},
     "output_type": "display_data"
    }
   ],
   "source": [
    "# densidade conjunta de x2 e x3\n",
    "plt.plot(x2, x3, 'o')\n",
    "plt.axis('equal')\n",
    "plt.show()"
   ]
  },
  {
   "cell_type": "code",
   "execution_count": 40,
   "metadata": {},
   "outputs": [
    {
     "data": {
      "text/plain": [
       "array([[1.08720474, 0.67618756],\n",
       "       [0.67618756, 1.02201817]])"
      ]
     },
     "execution_count": 40,
     "metadata": {},
     "output_type": "execute_result"
    }
   ],
   "source": [
    "np.cov(x2,x3)"
   ]
  },
  {
   "cell_type": "markdown",
   "metadata": {},
   "source": [
    "$$\n",
    "y_{2 i}=\\pi_1 x_{1 i}+\\pi_2 x_{2 i}+\\pi_3 x_{3 i}+v_i\n",
    "$$"
   ]
  },
  {
   "cell_type": "code",
   "execution_count": 41,
   "metadata": {},
   "outputs": [],
   "source": [
    "# definindo y2\n",
    "y2 = np.zeros(100)\n",
    "\n",
    "for i in range(n):\n",
    "    y2[i] = pi_1*x1[i] + pi_2*x2[i] + pi_3*x3[i] + v[i]"
   ]
  },
  {
   "cell_type": "markdown",
   "metadata": {},
   "source": [
    "$$\n",
    "y_{1 i}^*=\\gamma y_{2 i}+\\beta_1 x_{1 i}+\\beta_2 x_{2 i}+u_i\n",
    "$$"
   ]
  },
  {
   "cell_type": "code",
   "execution_count": 42,
   "metadata": {},
   "outputs": [],
   "source": [
    "# definindo y1*\n",
    "y1_star = np.zeros(100)\n",
    "\n",
    "for i in range(n):\n",
    "    y1_star[i] = gamma*y2[i] + beta_1*x1[i] + beta_2*x2[i] + u[i]"
   ]
  },
  {
   "cell_type": "markdown",
   "metadata": {},
   "source": [
    "$$\n",
    "y_{1 i}=\\mathbb{I}\\left(y_{1 i}^*>0\\right)\n",
    "$$"
   ]
  },
  {
   "cell_type": "code",
   "execution_count": 43,
   "metadata": {},
   "outputs": [],
   "source": [
    "# definindo y1\n",
    "y1 = np.zeros(100)\n",
    "\n",
    "for i in range(n):\n",
    "    if y1_star[i] > 0:\n",
    "        y1[i] = 1\n",
    "    else:\n",
    "        y1[i] = 0"
   ]
  },
  {
   "attachments": {},
   "cell_type": "markdown",
   "metadata": {},
   "source": [
    "### (b) (1.4) Considerando o processo de geração de dados descrito acima, simule uma amostra de tamanho $n$ e implemente a estimação solicitada no item (a). Obtenha as estimativas dos parâmetros $\\left(\\gamma, \\beta_1, \\beta_2, \\pi_1, \\pi_2, \\pi_3\\right)$ e intervalos de confiança de $95 \\%$ via bootstrap."
   ]
  },
  {
   "attachments": {},
   "cell_type": "markdown",
   "metadata": {},
   "source": [
    "Agora precisamos montar a log-likelihood, que é\n",
    "\n",
    "$$\n",
    "\\begin{aligned}\n",
    "\\ln(\\mathcal{L}) &= \\sum_{i=1}^n \\ln\\left[f(y_{1 i}, y_{2 i}| x_i)\\right]\\\\\n",
    "&= \\sum_{i=1}^n y_{1 i}\\ln\\left[\\Phi(w)\\right] + (1-y_{1 i})\\ln\\left[1-\\Phi(w)\\right] - \\frac{1}{2}\\ln\\left[\\sigma_v^2\\right] -\\left(\\frac{\\left(y_{2 i} - \\left(\\pi_1 x_{1 i}+\\pi_2 x_{2 i}+\\pi_3 x_{3 i}\\right)\\right)^2}{2\\sigma_v^2}\\right)\n",
    "\\end{aligned}\n",
    "$$\n",
    "\n",
    "onde $w = \\frac{(\\gamma+\\lambda) y_{2 i}+(\\beta_1-\\lambda\\pi_1) x_{1 i}+(\\beta_2-\\lambda\\pi_2) x_{2 i}-\\lambda\\pi_3 x_{3 i}}{\\sigma_u^2 - \\lambda^2\\sigma_v^2}$"
   ]
  },
  {
   "attachments": {},
   "cell_type": "markdown",
   "metadata": {},
   "source": [
    "Para diminuir o tempo computacional, vamos vetorizar as variáveis que temos, i.e. $x_1$, $x_2$, $x_3$, $y_1$ e $y_3$."
   ]
  },
  {
   "cell_type": "code",
   "execution_count": 44,
   "metadata": {},
   "outputs": [],
   "source": [
    "df = pd.DataFrame({'x1':x1, 'x2':x2, 'x3':x3, 'y1':y1, 'y2':y2})"
   ]
  },
  {
   "cell_type": "code",
   "execution_count": 45,
   "metadata": {},
   "outputs": [
    {
     "data": {
      "text/html": [
       "<div>\n",
       "<style scoped>\n",
       "    .dataframe tbody tr th:only-of-type {\n",
       "        vertical-align: middle;\n",
       "    }\n",
       "\n",
       "    .dataframe tbody tr th {\n",
       "        vertical-align: top;\n",
       "    }\n",
       "\n",
       "    .dataframe thead th {\n",
       "        text-align: right;\n",
       "    }\n",
       "</style>\n",
       "<table border=\"1\" class=\"dataframe\">\n",
       "  <thead>\n",
       "    <tr style=\"text-align: right;\">\n",
       "      <th></th>\n",
       "      <th>x1</th>\n",
       "      <th>x2</th>\n",
       "      <th>x3</th>\n",
       "      <th>y1</th>\n",
       "      <th>y2</th>\n",
       "    </tr>\n",
       "  </thead>\n",
       "  <tbody>\n",
       "    <tr>\n",
       "      <th>0</th>\n",
       "      <td>1.0</td>\n",
       "      <td>-0.488634</td>\n",
       "      <td>0.596601</td>\n",
       "      <td>1.0</td>\n",
       "      <td>0.602780</td>\n",
       "    </tr>\n",
       "    <tr>\n",
       "      <th>1</th>\n",
       "      <td>1.0</td>\n",
       "      <td>-0.480415</td>\n",
       "      <td>0.140387</td>\n",
       "      <td>0.0</td>\n",
       "      <td>-0.338661</td>\n",
       "    </tr>\n",
       "    <tr>\n",
       "      <th>2</th>\n",
       "      <td>1.0</td>\n",
       "      <td>-0.012455</td>\n",
       "      <td>1.055330</td>\n",
       "      <td>0.0</td>\n",
       "      <td>0.513075</td>\n",
       "    </tr>\n",
       "    <tr>\n",
       "      <th>3</th>\n",
       "      <td>1.0</td>\n",
       "      <td>-0.505522</td>\n",
       "      <td>-0.285600</td>\n",
       "      <td>1.0</td>\n",
       "      <td>0.339864</td>\n",
       "    </tr>\n",
       "    <tr>\n",
       "      <th>4</th>\n",
       "      <td>1.0</td>\n",
       "      <td>0.951116</td>\n",
       "      <td>1.983426</td>\n",
       "      <td>0.0</td>\n",
       "      <td>1.472169</td>\n",
       "    </tr>\n",
       "    <tr>\n",
       "      <th>...</th>\n",
       "      <td>...</td>\n",
       "      <td>...</td>\n",
       "      <td>...</td>\n",
       "      <td>...</td>\n",
       "      <td>...</td>\n",
       "    </tr>\n",
       "    <tr>\n",
       "      <th>95</th>\n",
       "      <td>1.0</td>\n",
       "      <td>-1.724489</td>\n",
       "      <td>-1.765776</td>\n",
       "      <td>0.0</td>\n",
       "      <td>-3.983017</td>\n",
       "    </tr>\n",
       "    <tr>\n",
       "      <th>96</th>\n",
       "      <td>1.0</td>\n",
       "      <td>-1.132667</td>\n",
       "      <td>-0.210457</td>\n",
       "      <td>1.0</td>\n",
       "      <td>0.064791</td>\n",
       "    </tr>\n",
       "    <tr>\n",
       "      <th>97</th>\n",
       "      <td>1.0</td>\n",
       "      <td>1.483936</td>\n",
       "      <td>1.144480</td>\n",
       "      <td>0.0</td>\n",
       "      <td>1.392514</td>\n",
       "    </tr>\n",
       "    <tr>\n",
       "      <th>98</th>\n",
       "      <td>1.0</td>\n",
       "      <td>1.277926</td>\n",
       "      <td>0.756227</td>\n",
       "      <td>1.0</td>\n",
       "      <td>2.343064</td>\n",
       "    </tr>\n",
       "    <tr>\n",
       "      <th>99</th>\n",
       "      <td>1.0</td>\n",
       "      <td>-0.254603</td>\n",
       "      <td>-0.116196</td>\n",
       "      <td>1.0</td>\n",
       "      <td>-0.110829</td>\n",
       "    </tr>\n",
       "  </tbody>\n",
       "</table>\n",
       "<p>100 rows × 5 columns</p>\n",
       "</div>"
      ],
      "text/plain": [
       "     x1        x2        x3   y1        y2\n",
       "0   1.0 -0.488634  0.596601  1.0  0.602780\n",
       "1   1.0 -0.480415  0.140387  0.0 -0.338661\n",
       "2   1.0 -0.012455  1.055330  0.0  0.513075\n",
       "3   1.0 -0.505522 -0.285600  1.0  0.339864\n",
       "4   1.0  0.951116  1.983426  0.0  1.472169\n",
       "..  ...       ...       ...  ...       ...\n",
       "95  1.0 -1.724489 -1.765776  0.0 -3.983017\n",
       "96  1.0 -1.132667 -0.210457  1.0  0.064791\n",
       "97  1.0  1.483936  1.144480  0.0  1.392514\n",
       "98  1.0  1.277926  0.756227  1.0  2.343064\n",
       "99  1.0 -0.254603 -0.116196  1.0 -0.110829\n",
       "\n",
       "[100 rows x 5 columns]"
      ]
     },
     "execution_count": 45,
     "metadata": {},
     "output_type": "execute_result"
    }
   ],
   "source": [
    "df"
   ]
  },
  {
   "cell_type": "code",
   "execution_count": 46,
   "metadata": {},
   "outputs": [],
   "source": [
    "def mle(parametros, x1, x2, x3, y1, y2):\n",
    "   gamma, beta_1, beta_2, pi_1, pi_2, pi_3 = parametros # parametros (são os outputs futuros do problema de otimização)\n",
    "   # vamos iterar a pdf de cada amostra\n",
    "   LL = 0\n",
    "   sigma2_v = 1\n",
    "   sigma2_u = 1.25\n",
    "   lambdaa = 0.5\n",
    "   w = np.zeros(100)\n",
    "   for i in range(100):\n",
    "      w[i] = ( ( gamma + lambdaa ) * y2[i] + ( beta_1 - lambdaa*pi_1 ) * x1[i] + \\\n",
    "          ( beta_2 - lambdaa*pi_2 ) * x2[i] - lambdaa * pi_3 * x3[i] ) / ( sigma2_u - ( lambdaa**(2) ) * sigma2_v ) \n",
    "      if norm.cdf(w[i]) == 0:\n",
    "        ln_pdf_i = 0\n",
    "      else:\n",
    "        ln_pdf_i = y1[i] * np.log( norm.cdf( w[i] ) ) + ( 1 - y1[i] ) * np.log( 1 - norm.cdf( w[i] ) ) \\\n",
    "          - (1/2) * np.log( sigma2_v ) - ( ( y2[i] - ( pi_1 * x1[i] + pi_2 * x2[i] + pi_3 * x3[i] ) )**2 / ( 2 * sigma2_v ) ) \n",
    "      LL = LL + ln_pdf_i\n",
    "   # Calcula o negativo da log-likelihood\n",
    "   neg_LL = -LL\n",
    "   return neg_LL"
   ]
  },
  {
   "cell_type": "code",
   "execution_count": 47,
   "metadata": {},
   "outputs": [],
   "source": [
    "# função de otimização\n",
    "def estimadores(x1, x2, x3, y1, y2, chute_inicial):\n",
    "    \"\"\"\n",
    "    Calcula os valores que minimiza a função de verossimilhançaa dada a amostra\n",
    "    :param x: valores de x da amostra de tamanho n\n",
    "    :param y: valores de y da amostra de tamanho n\n",
    "    :param chute_inicial: chute inicial na forma (gamma, beta_1, beta_2, pi_1, pi_2, pi_3)\n",
    "    :return: tupla com os valores ótimos (gamma, beta_1, beta_2, pi_1, pi_2, pi_3)\n",
    "    \"\"\"\n",
    "    estimadores_mle = minimize(mle,\n",
    "        x0=chute_inicial,\n",
    "        args=(x1, x2, x3, y1, y2),\n",
    "        bounds=((None, None), (None, None), (None, None), (None, None), (None, None), (None, None)),\n",
    "        method = 'L-BFGS-B'\n",
    "        ).x\n",
    "    return estimadores_mle"
   ]
  },
  {
   "attachments": {},
   "cell_type": "markdown",
   "metadata": {},
   "source": [
    "Esses são os resultados estimados respectivamente de, $\\hat{\\gamma}$, $\\hat{\\beta}_1$, $\\hat{\\beta}_2$, $\\hat{\\pi}_1$, $\\hat{\\pi}_2$ e $\\hat{\\pi}_3$."
   ]
  },
  {
   "cell_type": "code",
   "execution_count": 48,
   "metadata": {},
   "outputs": [
    {
     "data": {
      "text/plain": [
       "array([ 1.20917455, -0.20415296, -1.3954278 ,  0.0183129 ,  1.09208889,\n",
       "        0.79526807])"
      ]
     },
     "execution_count": 48,
     "metadata": {},
     "output_type": "execute_result"
    }
   ],
   "source": [
    "chute = [0, 0, 0, 0, 0, 0]\n",
    "estimadores(x1, x2, x3, y1, y2, chute)"
   ]
  },
  {
   "attachments": {},
   "cell_type": "markdown",
   "metadata": {},
   "source": [
    "Os resultados esperados eram $\\gamma=1$, $\\beta_1=0$, $\\beta_2=-1$, $\\pi_1=0$, $\\pi_2=1$ e $\\pi_3=1$"
   ]
  },
  {
   "attachments": {},
   "cell_type": "markdown",
   "metadata": {},
   "source": [
    "Agora vamos fazer a estimação via Bootstrap, com 1000 reamostragens."
   ]
  },
  {
   "cell_type": "code",
   "execution_count": 49,
   "metadata": {},
   "outputs": [],
   "source": [
    "# gerando matrizes nulas para o procedimento de bootstrap\n",
    "Bootstrap_x1 = np.zeros((1000, 100))\n",
    "Bootstrap_x2 = np.zeros((1000, 100))\n",
    "Bootstrap_x3 = np.zeros((1000, 100))\n",
    "Bootstrap_y1 = np.zeros((1000, 100))\n",
    "Bootstrap_y2 = np.zeros((1000, 100))\n",
    "\n",
    "estimadores_mle = np.zeros((1000, 6))"
   ]
  },
  {
   "cell_type": "code",
   "execution_count": 50,
   "metadata": {},
   "outputs": [
    {
     "name": "stdout",
     "output_type": "stream",
     "text": [
      "0\n",
      "1\n",
      "2\n",
      "3\n",
      "4\n",
      "5\n",
      "6\n",
      "7\n",
      "8\n",
      "9\n",
      "10\n",
      "11\n",
      "12\n",
      "13\n",
      "14\n",
      "15\n",
      "16\n",
      "17\n",
      "18\n",
      "19\n",
      "20\n",
      "21\n",
      "22\n",
      "23\n",
      "24\n",
      "25\n",
      "26\n",
      "27\n",
      "28\n",
      "29\n",
      "30\n",
      "31\n",
      "32\n",
      "33\n",
      "34\n",
      "35\n",
      "36\n",
      "37\n",
      "38\n",
      "39\n",
      "40\n",
      "41\n",
      "42\n",
      "43\n",
      "44\n",
      "45\n",
      "46\n",
      "47\n",
      "48\n",
      "49\n",
      "50\n",
      "51\n",
      "52\n",
      "53\n",
      "54\n",
      "55\n",
      "56\n",
      "57\n",
      "58\n",
      "59\n",
      "60\n",
      "61\n",
      "62\n",
      "63\n",
      "64\n",
      "65\n",
      "66\n",
      "67\n",
      "68\n",
      "69\n",
      "70\n",
      "71\n",
      "72\n",
      "73\n",
      "74\n",
      "75\n",
      "76\n",
      "77\n",
      "78\n",
      "79\n",
      "80\n",
      "81\n",
      "82\n",
      "83\n",
      "84\n",
      "85\n",
      "86\n",
      "87\n",
      "88\n",
      "89\n",
      "90\n",
      "91\n",
      "92\n",
      "93\n",
      "94\n",
      "95\n",
      "96\n",
      "97\n",
      "98\n",
      "99\n"
     ]
    }
   ],
   "source": [
    "# Bootstrap\n",
    "# demora > 60 minutos pra rodar quando a reamostragem é em 1000\n",
    "index = np.arange(0, 100)       # criando um vetor de índices de 1 à 100\n",
    "\n",
    "# NÃO SE ESQUEÇA DE MUDAR O NÚMERO DE REAMOSTRAGEM PARA 1000\n",
    "for i in range(100):          \n",
    "    random_index = np.random.choice(index, replace = True, size = 100)      # escolhe um índice do vetor de índices aleatóriamente, com reposição, 100 vezes\n",
    "    for j in range(100):\n",
    "        Bootstrap_x1[i][j] = x1[random_index[j]]\n",
    "        Bootstrap_x2[i][j] = x2[random_index[j]]\n",
    "        Bootstrap_x3[i][j] = x3[random_index[j]]\n",
    "        Bootstrap_y1[i][j] = y1[random_index[j]]\n",
    "        Bootstrap_y2[i][j] = y2[random_index[j]]\n",
    "    estimadores_mle[[i]] = estimadores( Bootstrap_x1[i],\n",
    "                                        Bootstrap_x2[i],\n",
    "                                        Bootstrap_x3[i],\n",
    "                                        Bootstrap_y1[i],\n",
    "                                        Bootstrap_y2[i],\n",
    "                                        [0, 0, 0, 0, 0, 0])\n",
    "    print(i)"
   ]
  },
  {
   "cell_type": "code",
   "execution_count": 51,
   "metadata": {},
   "outputs": [],
   "source": [
    "# função de intervalo de confiança\n",
    "def intervalo_de_confianca(data, confianca=0.95):\n",
    "    a = 1.0 * np.array(data)\n",
    "    n = len(a)\n",
    "    m, dp = np.mean(a), stats.sem(a)\n",
    "    h = dp * stats.t.ppf((1 + confianca) / 2., n-1)\n",
    "    return m-h, m+h"
   ]
  },
  {
   "cell_type": "code",
   "execution_count": 52,
   "metadata": {},
   "outputs": [
    {
     "data": {
      "text/html": [
       "<div>\n",
       "<style scoped>\n",
       "    .dataframe tbody tr th:only-of-type {\n",
       "        vertical-align: middle;\n",
       "    }\n",
       "\n",
       "    .dataframe tbody tr th {\n",
       "        vertical-align: top;\n",
       "    }\n",
       "\n",
       "    .dataframe thead th {\n",
       "        text-align: right;\n",
       "    }\n",
       "</style>\n",
       "<table border=\"1\" class=\"dataframe\">\n",
       "  <thead>\n",
       "    <tr style=\"text-align: right;\">\n",
       "      <th></th>\n",
       "      <th>Média</th>\n",
       "      <th>Mediana</th>\n",
       "      <th>Variância</th>\n",
       "      <th>Máximo</th>\n",
       "      <th>Mínimo</th>\n",
       "      <th>IC Inferior</th>\n",
       "      <th>IC Superior</th>\n",
       "    </tr>\n",
       "  </thead>\n",
       "  <tbody>\n",
       "    <tr>\n",
       "      <th>γ</th>\n",
       "      <td>0.128121</td>\n",
       "      <td>0.0</td>\n",
       "      <td>0.154374</td>\n",
       "      <td>2.107692</td>\n",
       "      <td>0.000000</td>\n",
       "      <td>0.103727</td>\n",
       "      <td>0.152515</td>\n",
       "    </tr>\n",
       "    <tr>\n",
       "      <th>β_1</th>\n",
       "      <td>-0.025730</td>\n",
       "      <td>0.0</td>\n",
       "      <td>0.010256</td>\n",
       "      <td>0.192327</td>\n",
       "      <td>-0.841946</td>\n",
       "      <td>-0.032018</td>\n",
       "      <td>-0.019443</td>\n",
       "    </tr>\n",
       "    <tr>\n",
       "      <th>β_2</th>\n",
       "      <td>-0.151334</td>\n",
       "      <td>0.0</td>\n",
       "      <td>0.228288</td>\n",
       "      <td>0.000000</td>\n",
       "      <td>-2.979185</td>\n",
       "      <td>-0.180998</td>\n",
       "      <td>-0.121670</td>\n",
       "    </tr>\n",
       "    <tr>\n",
       "      <th>π_1</th>\n",
       "      <td>0.000700</td>\n",
       "      <td>0.0</td>\n",
       "      <td>0.000817</td>\n",
       "      <td>0.247543</td>\n",
       "      <td>-0.204175</td>\n",
       "      <td>-0.001075</td>\n",
       "      <td>0.002474</td>\n",
       "    </tr>\n",
       "    <tr>\n",
       "      <th>π_1</th>\n",
       "      <td>0.107104</td>\n",
       "      <td>0.0</td>\n",
       "      <td>0.104964</td>\n",
       "      <td>1.341671</td>\n",
       "      <td>0.000000</td>\n",
       "      <td>0.086989</td>\n",
       "      <td>0.127218</td>\n",
       "    </tr>\n",
       "    <tr>\n",
       "      <th>π_1</th>\n",
       "      <td>0.080133</td>\n",
       "      <td>0.0</td>\n",
       "      <td>0.059575</td>\n",
       "      <td>1.094627</td>\n",
       "      <td>0.000000</td>\n",
       "      <td>0.064979</td>\n",
       "      <td>0.095287</td>\n",
       "    </tr>\n",
       "  </tbody>\n",
       "</table>\n",
       "</div>"
      ],
      "text/plain": [
       "        Média  Mediana  Variância    Máximo    Mínimo  IC Inferior  \\\n",
       "γ    0.128121      0.0   0.154374  2.107692  0.000000     0.103727   \n",
       "β_1 -0.025730      0.0   0.010256  0.192327 -0.841946    -0.032018   \n",
       "β_2 -0.151334      0.0   0.228288  0.000000 -2.979185    -0.180998   \n",
       "π_1  0.000700      0.0   0.000817  0.247543 -0.204175    -0.001075   \n",
       "π_1  0.107104      0.0   0.104964  1.341671  0.000000     0.086989   \n",
       "π_1  0.080133      0.0   0.059575  1.094627  0.000000     0.064979   \n",
       "\n",
       "     IC Superior  \n",
       "γ       0.152515  \n",
       "β_1    -0.019443  \n",
       "β_2    -0.121670  \n",
       "π_1     0.002474  \n",
       "π_1     0.127218  \n",
       "π_1     0.095287  "
      ]
     },
     "execution_count": 52,
     "metadata": {},
     "output_type": "execute_result"
    }
   ],
   "source": [
    "# Tabela com os estimadores de mle de Bootstrap\n",
    "beta_bootstrap_mle_normal = pd.DataFrame([[np.mean(estimadores_mle[:,0]), np.median(estimadores_mle[:,0]), np.var(estimadores_mle[:,0]), np.max(estimadores_mle[:,0]), np.min(estimadores_mle[:,0]), intervalo_de_confianca(estimadores_mle[:,0])[0], intervalo_de_confianca(estimadores_mle[:,0])[1]],\n",
    "                                          [np.mean(estimadores_mle[:,1]), np.median(estimadores_mle[:,1]), np.var(estimadores_mle[:,1]), np.max(estimadores_mle[:,1]), np.min(estimadores_mle[:,1]), intervalo_de_confianca(estimadores_mle[:,1])[0], intervalo_de_confianca(estimadores_mle[:,1])[1]],\n",
    "                                          [np.mean(estimadores_mle[:,2]), np.median(estimadores_mle[:,2]), np.var(estimadores_mle[:,2]), np.max(estimadores_mle[:,2]), np.min(estimadores_mle[:,2]), intervalo_de_confianca(estimadores_mle[:,2])[0], intervalo_de_confianca(estimadores_mle[:,2])[1]],\n",
    "                                          [np.mean(estimadores_mle[:,3]), np.median(estimadores_mle[:,3]), np.var(estimadores_mle[:,3]), np.max(estimadores_mle[:,3]), np.min(estimadores_mle[:,3]), intervalo_de_confianca(estimadores_mle[:,3])[0], intervalo_de_confianca(estimadores_mle[:,3])[1]],\n",
    "                                          [np.mean(estimadores_mle[:,4]), np.median(estimadores_mle[:,4]), np.var(estimadores_mle[:,4]), np.max(estimadores_mle[:,4]), np.min(estimadores_mle[:,4]), intervalo_de_confianca(estimadores_mle[:,4])[0], intervalo_de_confianca(estimadores_mle[:,4])[1]],\n",
    "                                          [np.mean(estimadores_mle[:,5]), np.median(estimadores_mle[:,5]), np.var(estimadores_mle[:,5]), np.max(estimadores_mle[:,5]), np.min(estimadores_mle[:,5]), intervalo_de_confianca(estimadores_mle[:,5])[0], intervalo_de_confianca(estimadores_mle[:,5])[1]]],\n",
    "                                        columns=['Média', 'Mediana', 'Variância', 'Máximo', 'Mínimo', 'IC Inferior', 'IC Superior'], \n",
    "                                        index=['γ', 'β_1', 'β_2', 'π_1', 'π_2', 'π_3'])\n",
    "beta_bootstrap_mle_normal"
   ]
  },
  {
   "attachments": {},
   "cell_type": "markdown",
   "metadata": {},
   "source": [
    "Os resultados esperados eram $\\gamma=1$, $\\beta_1=0$, $\\beta_2=-1$, $\\pi_1=0$, $\\pi_2=1$ e $\\pi_3=1$"
   ]
  },
  {
   "cell_type": "code",
   "execution_count": 53,
   "metadata": {},
   "outputs": [
    {
     "data": {
      "text/plain": [
       "<matplotlib.legend.Legend at 0x1d525a73100>"
      ]
     },
     "execution_count": 53,
     "metadata": {},
     "output_type": "execute_result"
    },
    {
     "data": {
      "image/png": "[encoded data removed]",
      "text/plain": [
       "<Figure size 800x640 with 1 Axes>"
      ]
     },
     "metadata": {},
     "output_type": "display_data"
    }
   ],
   "source": [
    "# Plots\n",
    "plt.figure(figsize=(10, 8), dpi=80)\n",
    "sns.histplot((estimadores_mle[:,0]), kde=True, binwidth=0.01, stat='density').set_title('Parâmetro $γ$')\n",
    "plt.legend(title='Dados', loc='upper right', labels=['$γ$'])"
   ]
  },
  {
   "attachments": {},
   "cell_type": "markdown",
   "metadata": {},
   "source": [
    "$\\gamma=1$"
   ]
  },
  {
   "cell_type": "code",
   "execution_count": 54,
   "metadata": {},
   "outputs": [
    {
     "data": {
      "text/plain": [
       "<matplotlib.legend.Legend at 0x1d525685a20>"
      ]
     },
     "execution_count": 54,
     "metadata": {},
     "output_type": "execute_result"
    },
    {
     "data": {
      "image/png": "[encoded data removed]",
      "text/plain": [
       "<Figure size 800x640 with 1 Axes>"
      ]
     },
     "metadata": {},
     "output_type": "display_data"
    }
   ],
   "source": [
    "# Plots\n",
    "plt.figure(figsize=(10, 8), dpi=80)\n",
    "sns.histplot((estimadores_mle[:,1]), kde=True, binwidth=0.01, stat='density').set_title('Parâmetro $β_1$')\n",
    "plt.legend(title='Dados', loc='upper right', labels=['$β_1$'])"
   ]
  },
  {
   "attachments": {},
   "cell_type": "markdown",
   "metadata": {},
   "source": [
    "$\\beta_1=0$"
   ]
  },
  {
   "cell_type": "code",
   "execution_count": 55,
   "metadata": {},
   "outputs": [
    {
     "data": {
      "text/plain": [
       "<matplotlib.legend.Legend at 0x1d525634d60>"
      ]
     },
     "execution_count": 55,
     "metadata": {},
     "output_type": "execute_result"
    },
    {
     "data": {
      "image/png": "[encoded data removed]",
      "text/plain": [
       "<Figure size 800x640 with 1 Axes>"
      ]
     },
     "metadata": {},
     "output_type": "display_data"
    }
   ],
   "source": [
    "# Plots\n",
    "plt.figure(figsize=(10, 8), dpi=80)\n",
    "sns.histplot((estimadores_mle[:,2]), kde=True, binwidth=0.01, stat='density').set_title('Parâmetro $β_2$')\n",
    "plt.legend(title='Dados', loc='upper right', labels=['$β_2$'])"
   ]
  },
  {
   "attachments": {},
   "cell_type": "markdown",
   "metadata": {},
   "source": [
    "$\\beta_2=-1$"
   ]
  },
  {
   "cell_type": "code",
   "execution_count": 56,
   "metadata": {},
   "outputs": [
    {
     "data": {
      "text/plain": [
       "<matplotlib.legend.Legend at 0x1d525b663e0>"
      ]
     },
     "execution_count": 56,
     "metadata": {},
     "output_type": "execute_result"
    },
    {
     "data": {
      "image/png": "[encoded data removed]",
      "text/plain": [
       "<Figure size 800x640 with 1 Axes>"
      ]
     },
     "metadata": {},
     "output_type": "display_data"
    }
   ],
   "source": [
    "# Plots\n",
    "plt.figure(figsize=(10, 8), dpi=80)\n",
    "sns.histplot((estimadores_mle[:,3]), kde=True, binwidth=0.01, stat='density').set_title('Parâmetro $π_1$')\n",
    "plt.legend(title='Dados', loc='upper right', labels=['$π_1$'])"
   ]
  },
  {
   "attachments": {},
   "cell_type": "markdown",
   "metadata": {},
   "source": [
    "$\\pi_1=0$"
   ]
  },
  {
   "cell_type": "code",
   "execution_count": 57,
   "metadata": {},
   "outputs": [
    {
     "data": {
      "text/plain": [
       "<matplotlib.legend.Legend at 0x1d526495e70>"
      ]
     },
     "execution_count": 57,
     "metadata": {},
     "output_type": "execute_result"
    },
    {
     "data": {
      "image/png": "[encoded data removed]",
      "text/plain": [
       "<Figure size 800x640 with 1 Axes>"
      ]
     },
     "metadata": {},
     "output_type": "display_data"
    }
   ],
   "source": [
    "# Plots\n",
    "plt.figure(figsize=(10, 8), dpi=80)\n",
    "sns.histplot((estimadores_mle[:,4]), kde=True, binwidth=0.01, stat='density').set_title('Parâmetro $π_2$')\n",
    "plt.legend(title='Dados', loc='upper right', labels=['$π_2$'])"
   ]
  },
  {
   "attachments": {},
   "cell_type": "markdown",
   "metadata": {},
   "source": [
    "$\\pi_2=1$"
   ]
  },
  {
   "cell_type": "code",
   "execution_count": 58,
   "metadata": {},
   "outputs": [
    {
     "data": {
      "text/plain": [
       "<matplotlib.legend.Legend at 0x1d525b912a0>"
      ]
     },
     "execution_count": 58,
     "metadata": {},
     "output_type": "execute_result"
    },
    {
     "data": {
      "image/png": "[encoded data removed]",
      "text/plain": [
       "<Figure size 800x640 with 1 Axes>"
      ]
     },
     "metadata": {},
     "output_type": "display_data"
    }
   ],
   "source": [
    "# Plots\n",
    "plt.figure(figsize=(10, 8), dpi=80)\n",
    "sns.histplot((estimadores_mle[:,5]), kde=True, binwidth=0.01, stat='density').set_title('Parâmetro $π_3$')\n",
    "plt.legend(title='Dados', loc='upper right', labels=['$π_3$'])"
   ]
  },
  {
   "attachments": {},
   "cell_type": "markdown",
   "metadata": {},
   "source": [
    "$\\pi_3=1$"
   ]
  },
  {
   "attachments": {},
   "cell_type": "markdown",
   "metadata": {},
   "source": [
    "### (c) (1.0) Proponha um método de estimação alternativo em dois passos, que permita testar a hipótese de endogeneidade no modelo. Descreva o método de estimação e, se houver, a função de verossimilhança."
   ]
  },
  {
   "attachments": {},
   "cell_type": "markdown",
   "metadata": {},
   "source": [
    "Rivers and Vuong (JoE 1988) oferecem um método alternativo ao anterior que consiste em dois passos:\n",
    "\n",
    "- OLS de $y_2$ em $x1$, $x_2$ e $x_3$, e extrair os resíduos $\\hat{v}$\n",
    "- Probit de $y_1$ em $y_2$, $x_1$, $x_2$ e $\\hat{v}$\n",
    "\n",
    "$H_0$ : $\\xi = 0$ é um teste simples para endogeneidade, onde $\\xi$ é o coeficiente de $v$ no segundo estágio."
   ]
  },
  {
   "attachments": {},
   "cell_type": "markdown",
   "metadata": {},
   "source": [
    "O primeiro passo consiste em encontrar as seguintes estimativas\n",
    "$$\n",
    "y_{2 i}=\\pi_1 x_{1 i}+\\pi_2 x_{2 i}+\\pi_3 x_{3 i}+v_i\n",
    "$$"
   ]
  },
  {
   "cell_type": "code",
   "execution_count": 60,
   "metadata": {},
   "outputs": [],
   "source": [
    "ols = pd.DataFrame()\n",
    "\n",
    "ols['y'] = df['y2']\n",
    "ols['x1'] = df['x1']\n",
    "ols['x2'] = df['x2']\n",
    "ols['x3'] = df['x3']\n",
    "\n",
    "result = sm.ols(formula=\"y ~ x1 + x2 + x3\", data=ols).fit()"
   ]
  },
  {
   "cell_type": "code",
   "execution_count": 61,
   "metadata": {},
   "outputs": [
    {
     "name": "stdout",
     "output_type": "stream",
     "text": [
      "                            OLS Regression Results                            \n",
      "==============================================================================\n",
      "Dep. Variable:                      y   R-squared:                       0.795\n",
      "Model:                            OLS   Adj. R-squared:                  0.791\n",
      "Method:                 Least Squares   F-statistic:                     188.4\n",
      "Date:                Wed, 14 Dec 2022   Prob (F-statistic):           3.89e-34\n",
      "Time:                        18:27:44   Log-Likelihood:                -130.60\n",
      "No. Observations:                 100   AIC:                             267.2\n",
      "Df Residuals:                      97   BIC:                             275.0\n",
      "Df Model:                           2                                         \n",
      "Covariance Type:            nonrobust                                         \n",
      "==============================================================================\n",
      "                 coef    std err          t      P>|t|      [0.025      0.975]\n",
      "------------------------------------------------------------------------------\n",
      "Intercept      0.0087      0.046      0.188      0.851      -0.083       0.100\n",
      "x1             0.0087      0.046      0.188      0.851      -0.083       0.100\n",
      "x2             1.0836      0.114      9.510      0.000       0.857       1.310\n",
      "x3             0.8088      0.118      6.882      0.000       0.576       1.042\n",
      "==============================================================================\n",
      "Omnibus:                        1.903   Durbin-Watson:                   1.907\n",
      "Prob(Omnibus):                  0.386   Jarque-Bera (JB):                1.566\n",
      "Skew:                          -0.305   Prob(JB):                        0.457\n",
      "Kurtosis:                       3.064   Cond. No.                     3.36e+15\n",
      "==============================================================================\n",
      "\n",
      "Notes:\n",
      "[1] Standard Errors assume that the covariance matrix of the errors is correctly specified.\n",
      "[2] The smallest eigenvalue is 1.9e-29. This might indicate that there are\n",
      "strong multicollinearity problems or that the design matrix is singular.\n"
     ]
    }
   ],
   "source": [
    "print(result.summary())"
   ]
  },
  {
   "cell_type": "code",
   "execution_count": 63,
   "metadata": {},
   "outputs": [],
   "source": [
    "df['v_chapeu'] = result.resid"
   ]
  },
  {
   "attachments": {},
   "cell_type": "markdown",
   "metadata": {},
   "source": [
    "$$\n",
    "\\begin{aligned}\n",
    "& h\\left(y_i, Y_i \\mid X_i ; \\gamma, \\beta, \\lambda, I I, \\Sigma_{v v}\\right) \\\\\n",
    "& =f\\left(y_i \\mid Y_i X_i ; \\gamma, \\beta, \\lambda, \\Pi\\right) g\\left(Y_i \\mid X_i ; \\Pi, \\Sigma_{v v}\\right),\n",
    "\\end{aligned}\n",
    "$$"
   ]
  },
  {
   "attachments": {},
   "cell_type": "markdown",
   "metadata": {},
   "source": [
    "$$\n",
    "\\begin{aligned}\n",
    "& f\\left(y_i \\mid Y_i X_i ; \\gamma, \\beta, \\lambda, \\Pi\\right) \\\\\n",
    "& =\\Phi\\left(Y_i^{\\prime} \\gamma+X_{1 i}^{\\prime} \\beta+V_i^{\\prime} \\lambda\\right)^{y_y}\\left[1-\\Phi\\left(Y_i^{\\prime} \\gamma+X_{1 i}^{\\prime} \\beta+V_i^{\\prime} \\lambda\\right)\\right]^{1-y} \\\\\n",
    "& g\\left(Y_i \\mid X_i ; \\Pi, \\Sigma_{\\nu v}\\right) \\\\\n",
    "& =(2 \\pi)^{-m / 2}\\left|\\Sigma_{\\nu v}\\right|^{-1 / 2} \\exp \\left\\{-1 / 2\\left(Y_i-\\Pi^{\\prime} X_i\\right)^{\\prime} \\Sigma_{v v}^{-1}\\left(Y_i-\\Pi^{\\prime} X_i\\right)\\right\\}\n",
    "\\end{aligned}\n",
    "$$"
   ]
  },
  {
   "cell_type": "code",
   "execution_count": null,
   "metadata": {},
   "outputs": [],
   "source": []
  }
 ],
 "metadata": {
  "kernelspec": {
   "display_name": "Python 3.10.2 64-bit",
   "language": "python",
   "name": "python3"
  },
  "language_info": {
   "codemirror_mode": {
    "name": "ipython",
    "version": 3
   },
   "file_extension": ".py",
   "mimetype": "text/x-python",
   "name": "python",
   "nbconvert_exporter": "python",
   "pygments_lexer": "ipython3",
   "version": "3.10.2"
  },
  "orig_nbformat": 4,
  "vscode": {
   "interpreter": {
    "hash": "c63d8c7d738c2960218a10995aedf0a7f67a49a231e71037adf0440953cdb45b"
   }
  }
 },
 "nbformat": 4,
 "nbformat_minor": 2
}
