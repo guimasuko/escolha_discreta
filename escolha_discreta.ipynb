{
 "cells": [
  {
   "cell_type": "code",
   "execution_count": 4,
   "metadata": {},
   "outputs": [],
   "source": [
    "import numpy as np\n",
    "import matplotlib.pyplot as plt\n",
    "import pandas as pd\n",
    "import seaborn as sns\n",
    "import statistics\n",
    "import random\n",
    "import math\n",
    "import warnings\n",
    "from scipy import stats\n",
    "from scipy.stats import norm\n",
    "from scipy.optimize import minimize"
   ]
  },
  {
   "attachments": {},
   "cell_type": "markdown",
   "metadata": {},
   "source": [
    "## Questão 1. ( $5.0$ pontos)\n",
    "Considere o modelo latente a seguir:\n",
    "$$\n",
    "\\begin{aligned}\n",
    "&y_{1 i}^*=\\gamma y_{2 i}+\\beta_1 x_{1 i}+\\beta_2 x_{2 i}+u_i \\\\\n",
    "&y_{2 i}=\\pi_1 x_{1 i}+\\pi_2 x_{2 i}+\\pi_3 x_{3 i}+v_i\n",
    "\\end{aligned}\n",
    "$$\n",
    "onde o econometrista observa\n",
    "$$\n",
    "y_{1 i}=\\mathbb{I}\\left(y_{1 i}^*>0\\right),\n",
    "$$\n",
    "sendo $\\mathbb{I}\\left(y_{1 i}^*>0\\right)$ uma função indicadora com valor igual a 1 caso $y_{1 i}^*>0$ e 0 caso contrário. As seguintes propriedades são válidas:"
   ]
  },
  {
   "cell_type": "markdown",
   "metadata": {},
   "source": [
    "\n",
    "* $\\left(u_i, v_i\\right)$ tem média zero, distribuição normal, independente de $x_i=\\left(x_{1 i}, x_{2 i}, x_{3 i}\\right)$;\n",
    "\n",
    "* $u_i=\\lambda v_i+\\eta_i$, onde $\\left(v_i, \\eta_i\\right)$ são independentes com distribuição normal padrão.\n",
    "\n",
    "Para o exercício de simulação abaixo, considere o seguinte processo de geração de dados: $x_{1 i}$ é um termo constante, $(x_{2 i}, x_{3 i})$ vem de distribuições normais multivariada equicorrelacionadas, com médias zeros, variancias unitárias e covariância de 0.5. Os parâmetros são definidos como:\n",
    "\n",
    "\n",
    "* $\\gamma=1$ \n",
    "* $\\beta_1=0$\n",
    "* $\\beta_2=-1$\n",
    "* $\\pi_1=0$\n",
    "* $\\pi_2=1$\n",
    "* $\\pi_3=1$\n",
    "* $\\lambda = 0.5$\n",
    "* $n=100$ \n",
    "\n",
    "onde $n$ é o tamanho da amostra. Construa o se próprio código para as stimações abaixo, não use os comandos do software."
   ]
  },
  {
   "attachments": {},
   "cell_type": "markdown",
   "metadata": {},
   "source": [
    "### (a) (1.0) Proponha um método de estimação para o problema acima baseado na densidade conjunta de $f\\left(y_{1 i}, y_{2 i} \\mid x_i\\right)$. Obtenha a função de verossimilhança para a estimação."
   ]
  },
  {
   "cell_type": "markdown",
   "metadata": {},
   "source": [
    "Sabemos que\n",
    "\n",
    "$$\n",
    "f(y_{1i}, y_{2i}|x_i) = f(y_{1i}|y_{2i}, x_i)\\cdot f(y_{2i}|x_i)\n",
    "$$\n",
    "\n",
    "Então precisamos encontrar $f(y_{1i}|y_{2i}, x_i)$ e $f(y_{2i}|x_i)$. Primeiro encontraremos $f(y_{2i}|x_i)$."
   ]
  },
  {
   "cell_type": "markdown",
   "metadata": {},
   "source": [
    "Pelo enunciado, temos a seguinte estrutura entre os erros\n",
    "\n",
    "$$\n",
    "\\left(\\begin{array}{l}\n",
    "u_i \\\\\n",
    "v_i\n",
    "\\end{array}\\right) \\sim \\operatorname{NID}\\left[\\left(\\begin{array}{l}\n",
    "0 \\\\\n",
    "0\n",
    "\\end{array}\\right),\\left(\\begin{array}{ll}\n",
    "\\sigma_{u}^2 & \\sigma_{u v} \\\\\n",
    "\\sigma_{v u} & \\sigma_{v}^2\n",
    "\\end{array}\\right)\\right]\n",
    "$$"
   ]
  },
  {
   "cell_type": "markdown",
   "metadata": {},
   "source": [
    "Utilizando as propriedades da normal multivariada, temos os seguintes resultados\n",
    "\n",
    "* Distribuição marginal\n",
    "\n",
    "$$\n",
    "\\mathbb{D}(u_i) = \\mathcal{N}(0, \\sigma_u^2)\\\\\n",
    "\\mathbb{D}(v_i) = \\mathcal{N}(0, \\sigma_v^2)\n",
    "$$\n",
    "\n",
    "* Distribuição Condicional\n",
    "$$\n",
    "\\mathbb{D}(u_i | v_i) = \\mathcal{N}\\left(\\frac{\\sigma{u v}}{\\sigma_v^2}v_i, \\sigma_u^2 - \\frac{\\sigma{u v}^2}{\\sigma_v^2}\\right)\\\\\n",
    "\\mathbb{D}(v_i | u_i) = \\mathcal{N}\\left(\\frac{\\sigma{v u}}{\\sigma_u^2}u_i, \\sigma_v^2 - \\frac{\\sigma{v u}^2}{\\sigma_u^2}\\right)\\\\\n",
    "$$\n"
   ]
  },
  {
   "attachments": {},
   "cell_type": "markdown",
   "metadata": {},
   "source": [
    "Partindo então de $y_{2 i}=\\pi_1 x_{1 i}+\\pi_2 x_{2 i}+\\pi_3 x_{3 i}+v_i$, temos\n",
    "\n",
    "$$\n",
    "\\mathbb{E}[y_{2 i}| x_i] = \\pi_1 x_{1 i}+\\pi_2 x_{2 i}+\\pi_3 x_{3 i} \\\\\n",
    "\\mathbb{V}[y_{2 i}| x_i] = \\mathbb{V}[v_i | x_i] = \\mathbb{V}[v_i] =\\sigma_v^2 = 1\n",
    "$$\n",
    "\n",
    "Portanto\n",
    "\n",
    "$$\n",
    "\\mathbb{D}(y_{2 i}|x_i) = \\mathcal{N}\\left(\\pi_1 x_{1 i}+\\pi_2 x_{2 i}+\\pi_3 x_{3 i}, \\sigma_v^2\\right)\n",
    "$$"
   ]
  },
  {
   "attachments": {},
   "cell_type": "markdown",
   "metadata": {},
   "source": [
    "Isso significa que\n",
    "\n",
    "$$\n",
    "\\begin{aligned}\n",
    "f(y_{2 i}| x_i) &= \\frac{1}{\\sqrt{2 \\pi \\sigma_v^2}}\\exp{\\left(-\\frac{\\left(y_{2 i} - \\left(\\pi_1 x_{1 i}+\\pi_2 x_{2 i}+\\pi_3 x_{3 i}\\right)\\right)^2}{2\\sigma_v^2}\\right)} \\\\\n",
    "\\end{aligned}\n",
    "$$\n",
    "\n",
    "onde $\\phi(\\cdot)$ é a pdf de uma distribuição normal padronizada"
   ]
  },
  {
   "attachments": {},
   "cell_type": "markdown",
   "metadata": {},
   "source": [
    "Agora precisamos definir $f(y_{1i}|y_{2i}, x_i)$\n",
    "\n",
    "Primeiro, sabemos que $u_i = \\lambda v_i + \\eta_i$ onde \n",
    "* $v_i \\sim \\mathcal{N}(0,1)$\n",
    "* $\\eta_i \\sim \\mathcal{N}(0,1)$ \n",
    "* $v_i \\perp \\!\\!\\! \\perp \\eta_i$\n",
    "\n",
    "e\n",
    "\n",
    "$$\n",
    "\\lambda = \\frac{\\mathbb{C}[v_i, u_i]}{\\mathbb{V}[v_i]} = \\frac{\\sigma_{v u}}{\\sigma_{v}^2} = \\frac{1}{2}\n",
    "$$"
   ]
  },
  {
   "attachments": {},
   "cell_type": "markdown",
   "metadata": {},
   "source": [
    "Como $u_i = \\lambda v_i + \\eta_i$, então temos que \n",
    "\n",
    "$$\n",
    "\\begin{aligned}\n",
    "\\mathbb{V}[u_i] &= \\mathbb{V}[\\lambda v_i + \\eta_i]\\\\\n",
    "&=\\lambda^2\\mathbb{V}[v_i] + \\mathbb{V}[\\eta_i]\\\\\n",
    "\\sigma_u^2&=\\lambda^2\\sigma_v^2 + \\mathbb{V}[\\eta_i] = \\left(\\frac{1}{2}\\right)^2 1 + 1 = \\frac{5}{4}\\\\\n",
    "\n",
    "\\Leftrightarrow \\\\ \\mathbb{V}[\\eta_i] &= \\sigma_u^2 - \\lambda^2\\sigma_v^2\n",
    "\\end{aligned}\n",
    "$$"
   ]
  },
  {
   "attachments": {},
   "cell_type": "markdown",
   "metadata": {},
   "source": [
    "Reescrevendo \n",
    "\n",
    "$$\n",
    "\\begin{aligned}\n",
    "y_{1 i}^* &=\\gamma y_{2 i}+\\beta_1 x_{1 i}+\\beta_2 x_{2 i}+u_i \\\\\n",
    "&=\\gamma y_{2 i}+\\beta_1 x_{1 i}+\\beta_2 x_{2 i}+\\lambda v_i + \\eta_i \\\\\n",
    "&=\\gamma y_{2 i}+\\beta_1 x_{1 i}+\\beta_2 x_{2 i}+\\lambda\\left(y_{2 i} - \\pi_1 x_{1 i}-\\pi_2 x_{2 i}-\\pi_3 x_{3 i}\\right) + \\eta_i \\\\\n",
    "&=(\\gamma+\\lambda) y_{2 i}+(\\beta_1-\\lambda\\pi_1) x_{1 i}+(\\beta_2-\\lambda\\pi_2) x_{2 i}-\\lambda\\pi_3 x_{3 i} + \\eta_i \\\\\n",
    "\\end{aligned}\n",
    "$$"
   ]
  },
  {
   "cell_type": "markdown",
   "metadata": {},
   "source": [
    "Como $y_{1 i} \\in \\{0, 1\\}$, então\n",
    "\n",
    "$$\n",
    "f(y_{1 i}|y_{2 i}, x_i) = \\mathbb{P}(y_{1 i} = 1| y_{2 i}, x_i)^{y_{1 i}}\\left[1 - \\mathbb{P}(y_{1 i} = 1| y_{2 i}, x_i)\\right]^{(1-y_{1 i})}\n",
    "$$"
   ]
  },
  {
   "attachments": {},
   "cell_type": "markdown",
   "metadata": {},
   "source": [
    "$$\n",
    "\\begin{aligned}\n",
    "\\mathbb{P}(y_{1 i} = 1| y_{2 i}, x_i) &= \\mathbb{P}(y_{1 i}^* > 0| y_{2 i}, x_i)\\\\\n",
    "\n",
    "&= \\mathbb{P}((\\gamma+\\lambda) y_{2 i}+(\\beta_1-\\lambda\\pi_1) x_{1 i}+(\\beta_2-\\lambda\\pi_2) x_{2 i}-\\lambda\\pi_3 x_{3 i} + \\eta_i > 0 |y_{2 i}, x_i) \\\\\n",
    "\n",
    "&= \\mathbb{P}(\\eta_i > - (\\gamma+\\lambda) y_{2 i}-(\\beta_1-\\lambda\\pi_1) x_{1 i}-(\\beta_2-\\lambda\\pi_2) x_{2 i}+\\lambda\\pi_3 x_{3 i} |y_{2 i}, x_i) \\\\\n",
    "\n",
    "&=1 - \\mathbb{P}\\left(\\frac{\\eta_i}{\\sigma_u^2 - \\lambda^2\\sigma_v^2} <- \\frac{(\\gamma+\\lambda) y_{2 i}+(\\beta_1-\\lambda\\pi_1) x_{1 i}+(\\beta_2-\\lambda\\pi_2) x_{2 i}-\\lambda\\pi_3 x_{3 i}}{\\sigma_u^2 - \\lambda^2\\sigma_v^2} |y_{2 i}, x_i\\right) \\\\\n",
    "\n",
    "&=1 - \\Phi\\left(- \\frac{(\\gamma+\\lambda) y_{2 i}+(\\beta_1-\\lambda\\pi_1) x_{1 i}+(\\beta_2-\\lambda\\pi_2) x_{2 i}-\\lambda\\pi_3 x_{3 i}}{\\sigma_u^2 - \\lambda^2\\sigma_v^2}\\right) \\\\\n",
    "\n",
    "&=\\Phi\\left(\\frac{(\\gamma+\\lambda) y_{2 i}+(\\beta_1-\\lambda\\pi_1) x_{1 i}+(\\beta_2-\\lambda\\pi_2) x_{2 i}-\\lambda\\pi_3 x_{3 i}}{\\sigma_u^2 - \\lambda^2\\sigma_v^2}\\right) \\\\\n",
    "\\end{aligned}\n",
    "$$"
   ]
  },
  {
   "attachments": {},
   "cell_type": "markdown",
   "metadata": {},
   "source": [
    "Defina \n",
    "\n",
    "$$\n",
    "\\Phi(w) \\equiv \\Phi\\left(\\frac{(\\gamma+\\lambda) y_{2 i}+(\\beta_1-\\lambda\\pi_1) x_{1 i}+(\\beta_2-\\lambda\\pi_2) x_{2 i}-\\lambda\\pi_3 x_{3 i}}{\\sigma_u^2 - \\lambda^2\\sigma_v^2}\\right) \\\\\n",
    "$$"
   ]
  },
  {
   "attachments": {},
   "cell_type": "markdown",
   "metadata": {},
   "source": [
    "Portanto\n",
    "\n",
    "$$\n",
    "\\begin{aligned}\n",
    "f(y_{1i}, y_{2i}|x_i) &= f(y_{1i}|y_{2i}, x_i)\\cdot f(y_{2i}|x_i)\\\\\n",
    "&=\\Phi(w)^{y_{1 i}}\\left[1-\\Phi(w)\\right]^{(1-y_{1 i})}\\cdot \\frac{1}{\\sqrt{2 \\pi \\sigma_v^2}}\\exp{\\left(-\\frac{\\left(y_{2 i} - \\left(\\pi_1 x_{1 i}+\\pi_2 x_{2 i}+\\pi_3 x_{3 i}\\right)\\right)^2}{2\\sigma_v^2}\\right)}\n",
    "\\end{aligned}\n",
    "$$\n"
   ]
  },
  {
   "attachments": {},
   "cell_type": "markdown",
   "metadata": {},
   "source": [
    "Aplicando $\\ln(\\cdot)$\n",
    "\n",
    "$$\n",
    "\\begin{aligned}\n",
    "\\ln(f(y_{1i}, y_{2i}|x_i)) &= y_{1 i}\\ln\\left[\\Phi(w)\\right] + (1-y_{1 i})\\ln\\left[1-\\Phi(w)\\right] + \\ln\\left[\\frac{1}{\\sqrt{2 \\pi \\sigma_v^2}}\\exp{\\left(-\\frac{\\left(y_{2 i} - \\left(\\pi_1 x_{1 i}+\\pi_2 x_{2 i}+\\pi_3 x_{3 i}\\right)\\right)^2}{2\\sigma_v^2}\\right)}\\right]\\\\\n",
    "&= y_{1 i}\\ln\\left[\\Phi(w)\\right] + (1-y_{1 i})\\ln\\left[1-\\Phi(w)\\right] + \\underbrace{\\ln\\left[\\frac{1}{\\sqrt{2 \\pi}}\\right]}_{\\operatorname{\\text{podemos desconsiderar}}} + \\ln\\left[\\frac{1}{\\sqrt{\\sigma_v^2}}\\right] -\\left(\\frac{\\left(y_{2 i} - \\left(\\pi_1 x_{1 i}+\\pi_2 x_{2 i}+\\pi_3 x_{3 i}\\right)\\right)^2}{2\\sigma_v^2}\\right)\\\\\n",
    "&= y_{1 i}\\ln\\left[\\Phi(w)\\right] + (1-y_{1 i})\\ln\\left[1-\\Phi(w)\\right] - \\frac{1}{2}\\ln\\left[\\sigma_v^2\\right] -\\left(\\frac{\\left(y_{2 i} - \\left(\\pi_1 x_{1 i}+\\pi_2 x_{2 i}+\\pi_3 x_{3 i}\\right)\\right)^2}{2\\sigma_v^2}\\right)\\\\\n",
    "\\end{aligned}\n",
    "$$"
   ]
  },
  {
   "cell_type": "markdown",
   "metadata": {},
   "source": [
    "Finalmente temos que a Likelihood é \n",
    "\n",
    "$$\n",
    "\\mathcal{L} = \\prod_{i=1}^n f(y_{1 i}, y_{2 i}| x_i)\n",
    "$$\n",
    "\n",
    "e a Log-Likelihood é\n",
    "\n",
    "$$\n",
    "\\ln(\\mathcal{L}) = \\sum_{i=1}^n \\ln\\left[f(y_{1 i}, y_{2 i}| x_i)\\right]\n",
    "$$"
   ]
  },
  {
   "cell_type": "code",
   "execution_count": 5,
   "metadata": {},
   "outputs": [],
   "source": [
    "# garante a replicabilidade dos valores aleatórios\n",
    "random.seed(10)\n",
    "warnings.filterwarnings('ignore')"
   ]
  },
  {
   "cell_type": "code",
   "execution_count": 6,
   "metadata": {},
   "outputs": [],
   "source": [
    "# valores dos parâmetros verdadeiros\n",
    "\n",
    "gamma = 1\n",
    "beta_1 = 0\n",
    "beta_2 = -1\n",
    "pi_1 = 0\n",
    "pi_2 = 1\n",
    "pi_3 = 1\n",
    "lambdaa = 0.5\n",
    "\n",
    "n = 100"
   ]
  },
  {
   "cell_type": "code",
   "execution_count": 7,
   "metadata": {},
   "outputs": [],
   "source": [
    "# gerando normais padronizadas independentes\n",
    "v = np.random.normal(0, 1, n)\n",
    "eta = np.random.normal(0, 1, n)"
   ]
  },
  {
   "cell_type": "code",
   "execution_count": 8,
   "metadata": {},
   "outputs": [
    {
     "data": {
      "image/png": "[encoded data removed]",
      "text/plain": [
       "<Figure size 864x576 with 1 Axes>"
      ]
     },
     "metadata": {},
     "output_type": "display_data"
    }
   ],
   "source": [
    "# plot da distribuição de v\n",
    "sns.set(rc={'figure.figsize':(12,8)});\n",
    "ax = sns.histplot(v,\n",
    "                  bins=30,\n",
    "                  kde=True,\n",
    "                  color='blue',\n",
    "                  stat = \"density\");\n",
    "ax.set(xlabel='v', ylabel='Frequência');"
   ]
  },
  {
   "cell_type": "code",
   "execution_count": 9,
   "metadata": {},
   "outputs": [
    {
     "data": {
      "image/png": "[encoded data removed]",
      "text/plain": [
       "<Figure size 864x576 with 1 Axes>"
      ]
     },
     "metadata": {},
     "output_type": "display_data"
    }
   ],
   "source": [
    "# plot da distribuição de eta\n",
    "sns.set(rc={'figure.figsize':(12,8)});\n",
    "ax = sns.histplot(eta,\n",
    "                  bins=30,\n",
    "                  kde=True,\n",
    "                  color='blue',\n",
    "                  stat = \"density\");\n",
    "ax.set(xlabel='eta', ylabel='Frequência');"
   ]
  },
  {
   "cell_type": "code",
   "execution_count": 10,
   "metadata": {},
   "outputs": [
    {
     "data": {
      "text/plain": [
       "array([[0.88876314, 0.12595405],\n",
       "       [0.12595405, 1.06073541]])"
      ]
     },
     "execution_count": 10,
     "metadata": {},
     "output_type": "execute_result"
    }
   ],
   "source": [
    "# matriz de covariância entre v e eta\n",
    "np.cov(v, eta)"
   ]
  },
  {
   "cell_type": "markdown",
   "metadata": {},
   "source": [
    "onde os valores assintóticos devem ser\n",
    "\n",
    "$$\n",
    "\\mathbb{V}[v] = 1 \\\\\n",
    "\\mathbb{V}[\\eta] = 1 \\\\\n",
    "\\mathbb{C}[v, \\eta] = \\mathbb{C}[\\eta, v] = 0 \\\\\n",
    "$$"
   ]
  },
  {
   "cell_type": "code",
   "execution_count": 11,
   "metadata": {},
   "outputs": [],
   "source": [
    "# criando u genérico\n",
    "u = np.zeros(100)"
   ]
  },
  {
   "cell_type": "markdown",
   "metadata": {},
   "source": [
    "$$\n",
    "u_i = \\lambda v_i + \\eta_i\n",
    "$$"
   ]
  },
  {
   "cell_type": "code",
   "execution_count": 12,
   "metadata": {},
   "outputs": [],
   "source": [
    "# definindo u\n",
    "for i in range(n):\n",
    "    u[i] = lambdaa*v[i] + eta[i]"
   ]
  },
  {
   "cell_type": "code",
   "execution_count": 13,
   "metadata": {},
   "outputs": [
    {
     "data": {
      "text/plain": [
       "array([[1.40888025, 0.57033562],\n",
       "       [0.57033562, 0.88876314]])"
      ]
     },
     "execution_count": 13,
     "metadata": {},
     "output_type": "execute_result"
    }
   ],
   "source": [
    "# matriz de covariância entre u e v\n",
    "np.cov(u, v)"
   ]
  },
  {
   "cell_type": "markdown",
   "metadata": {},
   "source": [
    "onde a teoria nos diz que \n",
    "\n",
    "$$\n",
    "\\begin{aligned}\n",
    "\\mathbb{C}[u, v] &= \\mathbb{C}[\\lambda v + \\eta, v]  \\\\\n",
    "&= \\lambda\\mathbb{C}[v, v] + \\mathbb{C}[\\eta, v] \\\\\n",
    "&= \\lambda \\mathbb{V}[v] + \\mathbb{C}[\\eta, v] \\\\\n",
    "&= 0.5\\cdot 1 + 0 = 0.5\n",
    "\\end{aligned}\n",
    "$$"
   ]
  },
  {
   "cell_type": "code",
   "execution_count": 14,
   "metadata": {},
   "outputs": [],
   "source": [
    "# gerandos x1\n",
    "x1 = np.ones(100)"
   ]
  },
  {
   "cell_type": "code",
   "execution_count": 15,
   "metadata": {},
   "outputs": [],
   "source": [
    "# gerando x2, x3\n",
    "mean = [0, 0]\n",
    "cov = [[1, 0.5], [0.5, 1]]\n",
    "\n",
    "x2, x3 = np.random.multivariate_normal(mean, cov, 100).T"
   ]
  },
  {
   "cell_type": "code",
   "execution_count": 16,
   "metadata": {},
   "outputs": [
    {
     "data": {
      "image/png": "[encoded data removed]",
      "text/plain": [
       "<Figure size 864x576 with 1 Axes>"
      ]
     },
     "metadata": {},
     "output_type": "display_data"
    }
   ],
   "source": [
    "# densidade conjunta de x2 e x3\n",
    "plt.plot(x2, x3, 'o')\n",
    "plt.axis('equal')\n",
    "plt.show()"
   ]
  },
  {
   "cell_type": "code",
   "execution_count": 17,
   "metadata": {},
   "outputs": [
    {
     "data": {
      "text/plain": [
       "array([[1.09255079, 0.70769461],\n",
       "       [0.70769461, 1.42695099]])"
      ]
     },
     "execution_count": 17,
     "metadata": {},
     "output_type": "execute_result"
    }
   ],
   "source": [
    "np.cov(x2,x3)"
   ]
  },
  {
   "cell_type": "markdown",
   "metadata": {},
   "source": [
    "$$\n",
    "y_{2 i}=\\pi_1 x_{1 i}+\\pi_2 x_{2 i}+\\pi_3 x_{3 i}+v_i\n",
    "$$"
   ]
  },
  {
   "cell_type": "code",
   "execution_count": 18,
   "metadata": {},
   "outputs": [],
   "source": [
    "# definindo y2\n",
    "y2 = np.zeros(100)\n",
    "\n",
    "for i in range(n):\n",
    "    y2[i] = pi_1*x1[i] + pi_2*x2[i] + pi_3*x3[i] + v[i]"
   ]
  },
  {
   "cell_type": "markdown",
   "metadata": {},
   "source": [
    "$$\n",
    "y_{1 i}^*=\\gamma y_{2 i}+\\beta_1 x_{1 i}+\\beta_2 x_{2 i}+u_i\n",
    "$$"
   ]
  },
  {
   "cell_type": "code",
   "execution_count": 19,
   "metadata": {},
   "outputs": [],
   "source": [
    "# definindo y1*\n",
    "y1_star = np.zeros(100)\n",
    "\n",
    "for i in range(n):\n",
    "    y1_star[i] = gamma*y2[i] + beta_1*x1[i] + beta_2*x2[i] + u[i]"
   ]
  },
  {
   "cell_type": "markdown",
   "metadata": {},
   "source": [
    "$$\n",
    "y_{1 i}=\\mathbb{I}\\left(y_{1 i}^*>0\\right)\n",
    "$$"
   ]
  },
  {
   "cell_type": "code",
   "execution_count": 20,
   "metadata": {},
   "outputs": [],
   "source": [
    "# definindo y1\n",
    "y1 = np.zeros(100)\n",
    "\n",
    "for i in range(n):\n",
    "    if y1_star[i] > 0:\n",
    "        y1[i] = 1\n",
    "    else:\n",
    "        y1[i] = 0"
   ]
  },
  {
   "attachments": {},
   "cell_type": "markdown",
   "metadata": {},
   "source": [
    "### (b) (1.4) Considerando o processo de geração de dados descrito acima, simule uma amostra de tamanho $n$ e implemente a estimação solicitada no item (a). Obtenha as estimativas dos parâmetros $\\left(\\gamma, \\beta_1, \\beta_2, \\pi_1, \\pi_2, \\pi_3\\right)$ e intervalos de confiança de $95 \\%$ via bootstrap."
   ]
  },
  {
   "attachments": {},
   "cell_type": "markdown",
   "metadata": {},
   "source": [
    "Agora precisamos montar a log-likelihood, que é\n",
    "\n",
    "$$\n",
    "\\begin{aligned}\n",
    "\\ln(\\mathcal{L}) &= \\sum_{i=1}^n \\ln\\left[f(y_{1 i}, y_{2 i}| x_i)\\right]\\\\\n",
    "&= \\sum_{i=1}^n y_{1 i}\\ln\\left[\\Phi(w)\\right] + (1-y_{1 i})\\ln\\left[1-\\Phi(w)\\right] - \\frac{1}{2}\\ln\\left[\\sigma_v^2\\right] -\\left(\\frac{\\left(y_{2 i} - \\left(\\pi_1 x_{1 i}+\\pi_2 x_{2 i}+\\pi_3 x_{3 i}\\right)\\right)^2}{2\\sigma_v^2}\\right)\n",
    "\\end{aligned}\n",
    "$$\n",
    "\n",
    "onde $w = \\frac{(\\gamma+\\lambda) y_{2 i}+(\\beta_1-\\lambda\\pi_1) x_{1 i}+(\\beta_2-\\lambda\\pi_2) x_{2 i}-\\lambda\\pi_3 x_{3 i}}{\\sigma_u^2 - \\lambda^2\\sigma_v^2}$"
   ]
  },
  {
   "cell_type": "code",
   "execution_count": 69,
   "metadata": {},
   "outputs": [],
   "source": [
    "def mle(parametros, x1, x2, x3, y1, y2):\n",
    "   gamma, beta_1, beta_2, pi_1, pi_2, pi_3 = parametros # parametros (são os outputs futuros do problema de otimização)\n",
    "   # vamos iterar a pdf de cada amostra\n",
    "   LL = 0\n",
    "   sigma2_v = 1\n",
    "   sigma2_u = 1.25\n",
    "   lambdaa = 0.5\n",
    "   w = np.zeros(100)\n",
    "   for i in range(100):\n",
    "      w[i] = ( ( gamma + lambdaa ) * y2[i] + ( beta_1 - lambdaa*pi_1 ) * x1[i] + \\\n",
    "          ( beta_2 - lambdaa*pi_2 ) * x2[i] - lambdaa * pi_3 * x3[i] ) / ( sigma2_u - ( lambdaa**2 ) * sigma2_v ) \n",
    "      ln_pdf_i = y1[i] * math.log( norm.cdf( w[i] ) ) + ( 1 - y1[i] ) * math.log( 1 - norm.cdf( w[i] ) ) \\\n",
    "          - (1/2) * math.log( sigma2_v ) - ( ( y2[i] - ( pi_1 * x1[i] + pi_2 * x2[i] + pi_3 * x3[i] ) ) / ( 2 * sigma2_v ) ) \n",
    "      LL = LL + ln_pdf_i\n",
    "   # Calcula o negativo da log-likelihood\n",
    "   neg_LL = -LL\n",
    "   return neg_LL"
   ]
  },
  {
   "cell_type": "code",
   "execution_count": 74,
   "metadata": {},
   "outputs": [],
   "source": [
    "# função de otimização\n",
    "def estimadores(x1, x2, x3, y1, y2, chute_inicial):\n",
    "    \"\"\"\n",
    "    Calcula os valores que minimiza a função de verossimilhançaa dada a amostra\n",
    "    :param x: valores de x da amostra de tamanho n\n",
    "    :param y: valores de y da amostra de tamanho n\n",
    "    :param chute_inicial: chute inicial na forma (gamma, beta_1, beta_2, pi_1, pi_2, pi_3)\n",
    "    :return: tupla com os valores ótimos (gamma, beta_1, beta_2, pi_1, pi_2, pi_3)\n",
    "    \"\"\"\n",
    "    estimadores_mle = minimize(mle,\n",
    "        x0=chute_inicial,\n",
    "        args=(x1, x2, x3, y1, y2),\n",
    "        bounds=((None, None), (None, None), (None, None), (None, None), (None, None), (None, None)),\n",
    "        ).x\n",
    "    return estimadores_mle"
   ]
  },
  {
   "cell_type": "code",
   "execution_count": 71,
   "metadata": {},
   "outputs": [
    {
     "ename": "ValueError",
     "evalue": "math domain error",
     "output_type": "error",
     "traceback": [
      "\u001b[1;31m---------------------------------------------------------------------------\u001b[0m",
      "\u001b[1;31mValueError\u001b[0m                                Traceback (most recent call last)",
      "\u001b[1;32mc:\\Users\\Usuario\\git\\prova_econo2\\escolha_discreta\\escolha_discreta.ipynb Célula: 50\u001b[0m in \u001b[0;36m<module>\u001b[1;34m\u001b[0m\n\u001b[0;32m      <a href='vscode-notebook-cell:/c%3A/Users/Usuario/git/prova_econo2/escolha_discreta/escolha_discreta.ipynb#X64sZmlsZQ%3D%3D?line=0'>1</a>\u001b[0m chute \u001b[39m=\u001b[39m [\u001b[39m1\u001b[39m, \u001b[39m1\u001b[39m, \u001b[39m1\u001b[39m, \u001b[39m1\u001b[39m, \u001b[39m1\u001b[39m, \u001b[39m1\u001b[39m]\n\u001b[1;32m----> <a href='vscode-notebook-cell:/c%3A/Users/Usuario/git/prova_econo2/escolha_discreta/escolha_discreta.ipynb#X64sZmlsZQ%3D%3D?line=1'>2</a>\u001b[0m estimadores(x1, x2, x3, y1, y2, chute)\n",
      "\u001b[1;32mc:\\Users\\Usuario\\git\\prova_econo2\\escolha_discreta\\escolha_discreta.ipynb Célula: 50\u001b[0m in \u001b[0;36mestimadores\u001b[1;34m(x1, x2, x3, y1, y2, chute_inicial)\u001b[0m\n\u001b[0;32m      <a href='vscode-notebook-cell:/c%3A/Users/Usuario/git/prova_econo2/escolha_discreta/escolha_discreta.ipynb#X64sZmlsZQ%3D%3D?line=1'>2</a>\u001b[0m \u001b[39mdef\u001b[39;00m \u001b[39mestimadores\u001b[39m(x1, x2, x3, y1, y2, chute_inicial):\n\u001b[0;32m      <a href='vscode-notebook-cell:/c%3A/Users/Usuario/git/prova_econo2/escolha_discreta/escolha_discreta.ipynb#X64sZmlsZQ%3D%3D?line=2'>3</a>\u001b[0m     \u001b[39m\"\"\"\u001b[39;00m\n\u001b[0;32m      <a href='vscode-notebook-cell:/c%3A/Users/Usuario/git/prova_econo2/escolha_discreta/escolha_discreta.ipynb#X64sZmlsZQ%3D%3D?line=3'>4</a>\u001b[0m \u001b[39m    Calcula os valores que minimiza a função de verossimilhançaa dada a amostra\u001b[39;00m\n\u001b[0;32m      <a href='vscode-notebook-cell:/c%3A/Users/Usuario/git/prova_econo2/escolha_discreta/escolha_discreta.ipynb#X64sZmlsZQ%3D%3D?line=4'>5</a>\u001b[0m \u001b[39m    :param x: valores de x da amostra de tamanho n\u001b[39;00m\n\u001b[1;32m   (...)\u001b[0m\n\u001b[0;32m      <a href='vscode-notebook-cell:/c%3A/Users/Usuario/git/prova_econo2/escolha_discreta/escolha_discreta.ipynb#X64sZmlsZQ%3D%3D?line=7'>8</a>\u001b[0m \u001b[39m    :return: tupla com os valores ótimos (gamma, beta_1, beta_2, pi_1, pi_2, pi_3)\u001b[39;00m\n\u001b[0;32m      <a href='vscode-notebook-cell:/c%3A/Users/Usuario/git/prova_econo2/escolha_discreta/escolha_discreta.ipynb#X64sZmlsZQ%3D%3D?line=8'>9</a>\u001b[0m \u001b[39m    \"\"\"\u001b[39;00m\n\u001b[1;32m---> <a href='vscode-notebook-cell:/c%3A/Users/Usuario/git/prova_econo2/escolha_discreta/escolha_discreta.ipynb#X64sZmlsZQ%3D%3D?line=9'>10</a>\u001b[0m     estimadores_mle \u001b[39m=\u001b[39m minimize(mle,\n\u001b[0;32m     <a href='vscode-notebook-cell:/c%3A/Users/Usuario/git/prova_econo2/escolha_discreta/escolha_discreta.ipynb#X64sZmlsZQ%3D%3D?line=10'>11</a>\u001b[0m         x0\u001b[39m=\u001b[39;49mchute_inicial,\n\u001b[0;32m     <a href='vscode-notebook-cell:/c%3A/Users/Usuario/git/prova_econo2/escolha_discreta/escolha_discreta.ipynb#X64sZmlsZQ%3D%3D?line=11'>12</a>\u001b[0m         args\u001b[39m=\u001b[39;49m(x1, x2, x3, y1, y2),\n\u001b[0;32m     <a href='vscode-notebook-cell:/c%3A/Users/Usuario/git/prova_econo2/escolha_discreta/escolha_discreta.ipynb#X64sZmlsZQ%3D%3D?line=12'>13</a>\u001b[0m         bounds\u001b[39m=\u001b[39;49m((\u001b[39mNone\u001b[39;49;00m, \u001b[39mNone\u001b[39;49;00m), (\u001b[39mNone\u001b[39;49;00m, \u001b[39mNone\u001b[39;49;00m), (\u001b[39mNone\u001b[39;49;00m, \u001b[39mNone\u001b[39;49;00m), (\u001b[39mNone\u001b[39;49;00m, \u001b[39mNone\u001b[39;49;00m), (\u001b[39mNone\u001b[39;49;00m, \u001b[39mNone\u001b[39;49;00m), (\u001b[39mNone\u001b[39;49;00m, \u001b[39mNone\u001b[39;49;00m)),\n\u001b[0;32m     <a href='vscode-notebook-cell:/c%3A/Users/Usuario/git/prova_econo2/escolha_discreta/escolha_discreta.ipynb#X64sZmlsZQ%3D%3D?line=13'>14</a>\u001b[0m         method\u001b[39m=\u001b[39;49m\u001b[39m\"\u001b[39;49m\u001b[39mL-BFGS-B\u001b[39;49m\u001b[39m\"\u001b[39;49m\n\u001b[0;32m     <a href='vscode-notebook-cell:/c%3A/Users/Usuario/git/prova_econo2/escolha_discreta/escolha_discreta.ipynb#X64sZmlsZQ%3D%3D?line=14'>15</a>\u001b[0m         )\u001b[39m.\u001b[39mx\n\u001b[0;32m     <a href='vscode-notebook-cell:/c%3A/Users/Usuario/git/prova_econo2/escolha_discreta/escolha_discreta.ipynb#X64sZmlsZQ%3D%3D?line=15'>16</a>\u001b[0m     \u001b[39mreturn\u001b[39;00m estimadores_mle\n",
      "File \u001b[1;32mc:\\Users\\Usuario\\AppData\\Local\\Programs\\Python\\Python310\\lib\\site-packages\\scipy\\optimize\\_minimize.py:681\u001b[0m, in \u001b[0;36mminimize\u001b[1;34m(fun, x0, args, method, jac, hess, hessp, bounds, constraints, tol, callback, options)\u001b[0m\n\u001b[0;32m    678\u001b[0m     res \u001b[39m=\u001b[39m _minimize_newtoncg(fun, x0, args, jac, hess, hessp, callback,\n\u001b[0;32m    679\u001b[0m                              \u001b[39m*\u001b[39m\u001b[39m*\u001b[39moptions)\n\u001b[0;32m    680\u001b[0m \u001b[39melif\u001b[39;00m meth \u001b[39m==\u001b[39m \u001b[39m'\u001b[39m\u001b[39ml-bfgs-b\u001b[39m\u001b[39m'\u001b[39m:\n\u001b[1;32m--> 681\u001b[0m     res \u001b[39m=\u001b[39m _minimize_lbfgsb(fun, x0, args, jac, bounds,\n\u001b[0;32m    682\u001b[0m                            callback\u001b[39m=\u001b[39mcallback, \u001b[39m*\u001b[39m\u001b[39m*\u001b[39moptions)\n\u001b[0;32m    683\u001b[0m \u001b[39melif\u001b[39;00m meth \u001b[39m==\u001b[39m \u001b[39m'\u001b[39m\u001b[39mtnc\u001b[39m\u001b[39m'\u001b[39m:\n\u001b[0;32m    684\u001b[0m     res \u001b[39m=\u001b[39m _minimize_tnc(fun, x0, args, jac, bounds, callback\u001b[39m=\u001b[39mcallback,\n\u001b[0;32m    685\u001b[0m                         \u001b[39m*\u001b[39m\u001b[39m*\u001b[39moptions)\n",
      "File \u001b[1;32mc:\\Users\\Usuario\\AppData\\Local\\Programs\\Python\\Python310\\lib\\site-packages\\scipy\\optimize\\_lbfgsb_py.py:362\u001b[0m, in \u001b[0;36m_minimize_lbfgsb\u001b[1;34m(fun, x0, args, jac, bounds, disp, maxcor, ftol, gtol, eps, maxfun, maxiter, iprint, callback, maxls, finite_diff_rel_step, **unknown_options)\u001b[0m\n\u001b[0;32m    356\u001b[0m task_str \u001b[39m=\u001b[39m task\u001b[39m.\u001b[39mtobytes()\n\u001b[0;32m    357\u001b[0m \u001b[39mif\u001b[39;00m task_str\u001b[39m.\u001b[39mstartswith(\u001b[39mb\u001b[39m\u001b[39m'\u001b[39m\u001b[39mFG\u001b[39m\u001b[39m'\u001b[39m):\n\u001b[0;32m    358\u001b[0m     \u001b[39m# The minimization routine wants f and g at the current x.\u001b[39;00m\n\u001b[0;32m    359\u001b[0m     \u001b[39m# Note that interruptions due to maxfun are postponed\u001b[39;00m\n\u001b[0;32m    360\u001b[0m     \u001b[39m# until the completion of the current minimization iteration.\u001b[39;00m\n\u001b[0;32m    361\u001b[0m     \u001b[39m# Overwrite f and g:\u001b[39;00m\n\u001b[1;32m--> 362\u001b[0m     f, g \u001b[39m=\u001b[39m func_and_grad(x)\n\u001b[0;32m    363\u001b[0m \u001b[39melif\u001b[39;00m task_str\u001b[39m.\u001b[39mstartswith(\u001b[39mb\u001b[39m\u001b[39m'\u001b[39m\u001b[39mNEW_X\u001b[39m\u001b[39m'\u001b[39m):\n\u001b[0;32m    364\u001b[0m     \u001b[39m# new iteration\u001b[39;00m\n\u001b[0;32m    365\u001b[0m     n_iterations \u001b[39m+\u001b[39m\u001b[39m=\u001b[39m \u001b[39m1\u001b[39m\n",
      "File \u001b[1;32mc:\\Users\\Usuario\\AppData\\Local\\Programs\\Python\\Python310\\lib\\site-packages\\scipy\\optimize\\_differentiable_functions.py:285\u001b[0m, in \u001b[0;36mScalarFunction.fun_and_grad\u001b[1;34m(self, x)\u001b[0m\n\u001b[0;32m    283\u001b[0m \u001b[39mif\u001b[39;00m \u001b[39mnot\u001b[39;00m np\u001b[39m.\u001b[39marray_equal(x, \u001b[39mself\u001b[39m\u001b[39m.\u001b[39mx):\n\u001b[0;32m    284\u001b[0m     \u001b[39mself\u001b[39m\u001b[39m.\u001b[39m_update_x_impl(x)\n\u001b[1;32m--> 285\u001b[0m \u001b[39mself\u001b[39;49m\u001b[39m.\u001b[39;49m_update_fun()\n\u001b[0;32m    286\u001b[0m \u001b[39mself\u001b[39m\u001b[39m.\u001b[39m_update_grad()\n\u001b[0;32m    287\u001b[0m \u001b[39mreturn\u001b[39;00m \u001b[39mself\u001b[39m\u001b[39m.\u001b[39mf, \u001b[39mself\u001b[39m\u001b[39m.\u001b[39mg\n",
      "File \u001b[1;32mc:\\Users\\Usuario\\AppData\\Local\\Programs\\Python\\Python310\\lib\\site-packages\\scipy\\optimize\\_differentiable_functions.py:251\u001b[0m, in \u001b[0;36mScalarFunction._update_fun\u001b[1;34m(self)\u001b[0m\n\u001b[0;32m    249\u001b[0m \u001b[39mdef\u001b[39;00m \u001b[39m_update_fun\u001b[39m(\u001b[39mself\u001b[39m):\n\u001b[0;32m    250\u001b[0m     \u001b[39mif\u001b[39;00m \u001b[39mnot\u001b[39;00m \u001b[39mself\u001b[39m\u001b[39m.\u001b[39mf_updated:\n\u001b[1;32m--> 251\u001b[0m         \u001b[39mself\u001b[39;49m\u001b[39m.\u001b[39;49m_update_fun_impl()\n\u001b[0;32m    252\u001b[0m         \u001b[39mself\u001b[39m\u001b[39m.\u001b[39mf_updated \u001b[39m=\u001b[39m \u001b[39mTrue\u001b[39;00m\n",
      "File \u001b[1;32mc:\\Users\\Usuario\\AppData\\Local\\Programs\\Python\\Python310\\lib\\site-packages\\scipy\\optimize\\_differentiable_functions.py:155\u001b[0m, in \u001b[0;36mScalarFunction.__init__.<locals>.update_fun\u001b[1;34m()\u001b[0m\n\u001b[0;32m    154\u001b[0m \u001b[39mdef\u001b[39;00m \u001b[39mupdate_fun\u001b[39m():\n\u001b[1;32m--> 155\u001b[0m     \u001b[39mself\u001b[39m\u001b[39m.\u001b[39mf \u001b[39m=\u001b[39m fun_wrapped(\u001b[39mself\u001b[39;49m\u001b[39m.\u001b[39;49mx)\n",
      "File \u001b[1;32mc:\\Users\\Usuario\\AppData\\Local\\Programs\\Python\\Python310\\lib\\site-packages\\scipy\\optimize\\_differentiable_functions.py:137\u001b[0m, in \u001b[0;36mScalarFunction.__init__.<locals>.fun_wrapped\u001b[1;34m(x)\u001b[0m\n\u001b[0;32m    133\u001b[0m \u001b[39mself\u001b[39m\u001b[39m.\u001b[39mnfev \u001b[39m+\u001b[39m\u001b[39m=\u001b[39m \u001b[39m1\u001b[39m\n\u001b[0;32m    134\u001b[0m \u001b[39m# Send a copy because the user may overwrite it.\u001b[39;00m\n\u001b[0;32m    135\u001b[0m \u001b[39m# Overwriting results in undefined behaviour because\u001b[39;00m\n\u001b[0;32m    136\u001b[0m \u001b[39m# fun(self.x) will change self.x, with the two no longer linked.\u001b[39;00m\n\u001b[1;32m--> 137\u001b[0m fx \u001b[39m=\u001b[39m fun(np\u001b[39m.\u001b[39;49mcopy(x), \u001b[39m*\u001b[39;49margs)\n\u001b[0;32m    138\u001b[0m \u001b[39m# Make sure the function returns a true scalar\u001b[39;00m\n\u001b[0;32m    139\u001b[0m \u001b[39mif\u001b[39;00m \u001b[39mnot\u001b[39;00m np\u001b[39m.\u001b[39misscalar(fx):\n",
      "\u001b[1;32mc:\\Users\\Usuario\\git\\prova_econo2\\escolha_discreta\\escolha_discreta.ipynb Célula: 50\u001b[0m in \u001b[0;36mmle\u001b[1;34m(parametros, x1, x2, x3, y1, y2)\u001b[0m\n\u001b[0;32m      <a href='vscode-notebook-cell:/c%3A/Users/Usuario/git/prova_econo2/escolha_discreta/escolha_discreta.ipynb#X64sZmlsZQ%3D%3D?line=8'>9</a>\u001b[0m \u001b[39mfor\u001b[39;00m i \u001b[39min\u001b[39;00m \u001b[39mrange\u001b[39m(\u001b[39m100\u001b[39m):\n\u001b[0;32m     <a href='vscode-notebook-cell:/c%3A/Users/Usuario/git/prova_econo2/escolha_discreta/escolha_discreta.ipynb#X64sZmlsZQ%3D%3D?line=9'>10</a>\u001b[0m    w[i] \u001b[39m=\u001b[39m ( ( gamma \u001b[39m+\u001b[39m lambdaa ) \u001b[39m*\u001b[39m y2[i] \u001b[39m+\u001b[39m ( beta_1 \u001b[39m-\u001b[39m lambdaa\u001b[39m*\u001b[39mpi_1 ) \u001b[39m*\u001b[39m x1[i] \u001b[39m+\u001b[39m ( beta_2 \u001b[39m-\u001b[39m lambdaa\u001b[39m*\u001b[39mpi_2 ) \u001b[39m*\u001b[39m x2[i] \u001b[39m-\u001b[39m lambdaa \u001b[39m*\u001b[39m pi_3 \u001b[39m*\u001b[39m x3[i] ) \u001b[39m/\u001b[39m ( sigma2_u \u001b[39m-\u001b[39m ( lambdaa\u001b[39m*\u001b[39m\u001b[39m*\u001b[39m\u001b[39m2\u001b[39m ) \u001b[39m*\u001b[39m sigma2_v ) \n\u001b[1;32m---> <a href='vscode-notebook-cell:/c%3A/Users/Usuario/git/prova_econo2/escolha_discreta/escolha_discreta.ipynb#X64sZmlsZQ%3D%3D?line=10'>11</a>\u001b[0m    ln_pdf_i \u001b[39m=\u001b[39m y1[i] \u001b[39m*\u001b[39m math\u001b[39m.\u001b[39mlog( norm\u001b[39m.\u001b[39mcdf( w[i] ) ) \u001b[39m+\u001b[39m ( \u001b[39m1\u001b[39m \u001b[39m-\u001b[39m y1[i] ) \u001b[39m*\u001b[39m math\u001b[39m.\u001b[39;49mlog( \u001b[39m1\u001b[39;49m \u001b[39m-\u001b[39;49m norm\u001b[39m.\u001b[39;49mcdf( w[i] ) ) \u001b[39m-\u001b[39m (\u001b[39m1\u001b[39m\u001b[39m/\u001b[39m\u001b[39m2\u001b[39m) \u001b[39m*\u001b[39m math\u001b[39m.\u001b[39mlog( sigma2_v ) \u001b[39m-\u001b[39m ( ( y2[i] \u001b[39m-\u001b[39m ( pi_1 \u001b[39m*\u001b[39m x1[i] \u001b[39m+\u001b[39m pi_2 \u001b[39m*\u001b[39m x2[i] \u001b[39m+\u001b[39m pi_3 \u001b[39m*\u001b[39m x3[i] ) ) \u001b[39m/\u001b[39m ( \u001b[39m2\u001b[39m \u001b[39m*\u001b[39m sigma2_v ) ) \n\u001b[0;32m     <a href='vscode-notebook-cell:/c%3A/Users/Usuario/git/prova_econo2/escolha_discreta/escolha_discreta.ipynb#X64sZmlsZQ%3D%3D?line=11'>12</a>\u001b[0m    LL \u001b[39m=\u001b[39m LL \u001b[39m+\u001b[39m ln_pdf_i\n\u001b[0;32m     <a href='vscode-notebook-cell:/c%3A/Users/Usuario/git/prova_econo2/escolha_discreta/escolha_discreta.ipynb#X64sZmlsZQ%3D%3D?line=12'>13</a>\u001b[0m \u001b[39m# Calcula o negativo da log-likelihood\u001b[39;00m\n",
      "\u001b[1;31mValueError\u001b[0m: math domain error"
     ]
    }
   ],
   "source": [
    "chute = [1, 1, 1, 1, 1, 1]\n",
    "estimadores(x1, x2, x3, y1, y2, chute)"
   ]
  },
  {
   "cell_type": "code",
   "execution_count": null,
   "metadata": {},
   "outputs": [],
   "source": []
  }
 ],
 "metadata": {
  "kernelspec": {
   "display_name": "Python 3.10.2 64-bit",
   "language": "python",
   "name": "python3"
  },
  "language_info": {
   "codemirror_mode": {
    "name": "ipython",
    "version": 3
   },
   "file_extension": ".py",
   "mimetype": "text/x-python",
   "name": "python",
   "nbconvert_exporter": "python",
   "pygments_lexer": "ipython3",
   "version": "3.10.2"
  },
  "orig_nbformat": 4,
  "vscode": {
   "interpreter": {
    "hash": "c63d8c7d738c2960218a10995aedf0a7f67a49a231e71037adf0440953cdb45b"
   }
  }
 },
 "nbformat": 4,
 "nbformat_minor": 2
}
